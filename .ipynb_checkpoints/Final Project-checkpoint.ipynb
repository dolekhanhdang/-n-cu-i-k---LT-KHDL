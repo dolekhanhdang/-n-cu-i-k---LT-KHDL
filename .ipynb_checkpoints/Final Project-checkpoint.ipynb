{
 "cells": [
  {
   "cell_type": "markdown",
   "id": "b728cf86",
   "metadata": {},
   "source": [
    "### Môn Lập trình cho khoa học dữ liệu\n",
    "#### Giảng viên: Trần Trung Kiên\n",
    "\n",
    "\n",
    "<h1><center>Đồ án cuối kỳ</center></h1>\n",
    "\n",
    "MSSV |\tHọ và tên | Tên tài khoản github\n",
    "--- | --- | ---\n",
    "19120186 |\tĐỗ Lê Khánh Đăng | dolekhanhdang\n",
    "19120412 |\tNguyễn Minh Tú   |  tuak123ax"
   ]
  },
  {
   "cell_type": "markdown",
   "id": "10358eaa",
   "metadata": {},
   "source": [
    "### Về dữ liệu\n",
    "Dữ liệu này về lương của những công việc liên quan đến data: data scientist, data engineer, .... <br />\n",
    "Nguồn: https://www.kaggle.com/nikhilbhathi/data-scientist-salary-us-glassdoor. <br />\n",
    "Trong mục mô tả của dữ liệu:<br />\n",
    "- The dataset is scraped from the Glassdoor website using Selenium scrapper. After scrapping, the raw dataset was cleaned and made usable for performing data analysis and modelling. The dataset contains information about the minimum salary, maximum salary, average salary, job description, age of the company in years, etc.\n",
    "- Dữ liệu được lấy bằng cách scraped từ website của Glassdoor với Selenium scrapper. Sau khi lấy, dữ liệu đã được xử lý phù hợp cho phân tích dữ liệu và mô hình hóa. Tập dữ liệu chứa thông tin về mức lương tối thiểu, tối đa, trung bình, mô tả công việc, tuổi đời công ty,.."
   ]
  },
  {
   "cell_type": "markdown",
   "id": "f54aced6",
   "metadata": {},
   "source": [
    "### Khám phá dữ liệu "
   ]
  },
  {
   "cell_type": "code",
   "execution_count": null,
   "id": "daf24e19",
   "metadata": {},
   "outputs": [],
   "source": []
  },
  {
   "cell_type": "markdown",
   "id": "aa68835a",
   "metadata": {},
   "source": [
    "Đọc dữ liệu"
   ]
  },
  {
   "cell_type": "code",
   "execution_count": 1,
   "id": "a58d6f9f",
   "metadata": {},
   "outputs": [
    {
     "ename": "NameError",
     "evalue": "name 'pd' is not defined",
     "output_type": "error",
     "traceback": [
      "\u001b[1;31m---------------------------------------------------------------------------\u001b[0m",
      "\u001b[1;31mNameError\u001b[0m                                 Traceback (most recent call last)",
      "\u001b[1;32mC:\\Users\\DANGDO~1\\AppData\\Local\\Temp/ipykernel_18832/2427919468.py\u001b[0m in \u001b[0;36m<module>\u001b[1;34m\u001b[0m\n\u001b[1;32m----> 1\u001b[1;33m \u001b[0mdata\u001b[0m \u001b[1;33m=\u001b[0m \u001b[0mpd\u001b[0m\u001b[1;33m.\u001b[0m\u001b[0mread_csv\u001b[0m\u001b[1;33m(\u001b[0m\u001b[1;34m'data_cleaned_2021.csv'\u001b[0m\u001b[1;33m)\u001b[0m\u001b[1;33m\u001b[0m\u001b[1;33m\u001b[0m\u001b[0m\n\u001b[0m",
      "\u001b[1;31mNameError\u001b[0m: name 'pd' is not defined"
     ]
    }
   ],
   "source": [
    "data = pd.read_csv('data_cleaned_2021.csv')"
   ]
  },
  {
   "cell_type": "markdown",
   "id": "7e90cfe6",
   "metadata": {},
   "source": [
    "### Các câu hỏi ý nghĩa cần trả lời"
   ]
  }
 ],
 "metadata": {
  "kernelspec": {
   "display_name": "Python 3 (ipykernel)",
   "language": "python",
   "name": "python3"
  },
  "language_info": {
   "codemirror_mode": {
    "name": "ipython",
    "version": 3
   },
   "file_extension": ".py",
   "mimetype": "text/x-python",
   "name": "python",
   "nbconvert_exporter": "python",
   "pygments_lexer": "ipython3",
   "version": "3.8.8"
  }
 },
 "nbformat": 4,
 "nbformat_minor": 5
}
