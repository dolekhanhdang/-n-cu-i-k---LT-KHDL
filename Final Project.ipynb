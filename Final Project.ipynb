{
 "cells": [
  {
   "cell_type": "markdown",
   "id": "b728cf86",
   "metadata": {},
   "source": [
    "### Môn Lập trình cho khoa học dữ liệu\n",
    "#### Giảng viên: Trần Trung Kiên\n",
    "\n",
    "\n",
    "<h1><center>Đồ án cuối kỳ</center></h1>\n",
    "\n",
    "MSSV |\tHọ và tên | Tên tài khoản github\n",
    "--- | --- | ---\n",
    "19120186 |\tĐỗ Lê Khánh Đăng | dolekhanhdang\n",
    "19120412 |\tNguyễn Minh Tú   |  tuak123ax"
   ]
  },
  {
   "cell_type": "markdown",
   "id": "10358eaa",
   "metadata": {},
   "source": [
    "### Về dữ liệu\n",
    "Dữ liệu này về lương của những công việc liên quan đến data: data scientist, data engineer, .... <br />\n",
    "Nguồn: https://www.kaggle.com/nikhilbhathi/data-scientist-salary-us-glassdoor. <br />\n",
    "Trong mục mô tả của dữ liệu:<br />\n",
    "- The dataset is scraped from the Glassdoor website using Selenium scrapper. After scrapping, the raw dataset was cleaned and made usable for performing data analysis and modelling. The dataset contains information about the minimum salary, maximum salary, average salary, job description, age of the company in years, etc.\n",
    "- Dữ liệu được lấy bằng cách scraped từ website của Glassdoor với Selenium scrapper. Sau khi lấy, dữ liệu đã được xử lý phù hợp cho phân tích dữ liệu và mô hình hóa. Tập dữ liệu chứa thông tin về mức lương tối thiểu, tối đa, trung bình, mô tả công việc, tuổi đời công ty,.."
   ]
  },
  {
   "cell_type": "markdown",
   "id": "09fdd58a",
   "metadata": {},
   "source": [
    "## Import thư viện"
   ]
  },
  {
   "cell_type": "code",
   "execution_count": 2,
   "id": "bb88905a",
   "metadata": {},
   "outputs": [],
   "source": [
    "import pandas as pd\n",
    "import numpy as np\n",
    "import matplotlib.pyplot as plt"
   ]
  },
  {
   "cell_type": "markdown",
   "id": "f54aced6",
   "metadata": {},
   "source": [
    "## Khám phá dữ liệu "
   ]
  },
  {
   "cell_type": "markdown",
   "id": "6822e1a4",
   "metadata": {},
   "source": [
    "### Đọc dữ liệu từ file csv vào dataframe"
   ]
  },
  {
   "cell_type": "code",
   "execution_count": 3,
   "id": "ad81a9f8",
   "metadata": {},
   "outputs": [
    {
     "data": {
      "text/html": [
       "<div>\n",
       "<style scoped>\n",
       "    .dataframe tbody tr th:only-of-type {\n",
       "        vertical-align: middle;\n",
       "    }\n",
       "\n",
       "    .dataframe tbody tr th {\n",
       "        vertical-align: top;\n",
       "    }\n",
       "\n",
       "    .dataframe thead th {\n",
       "        text-align: right;\n",
       "    }\n",
       "</style>\n",
       "<table border=\"1\" class=\"dataframe\">\n",
       "  <thead>\n",
       "    <tr style=\"text-align: right;\">\n",
       "      <th></th>\n",
       "      <th>Job Title</th>\n",
       "      <th>Salary Estimate</th>\n",
       "      <th>Job Description</th>\n",
       "      <th>Rating</th>\n",
       "      <th>Company Name</th>\n",
       "      <th>Location</th>\n",
       "      <th>Headquarters</th>\n",
       "      <th>Size</th>\n",
       "      <th>Founded</th>\n",
       "      <th>Type of ownership</th>\n",
       "      <th>...</th>\n",
       "      <th>tensor</th>\n",
       "      <th>hadoop</th>\n",
       "      <th>tableau</th>\n",
       "      <th>bi</th>\n",
       "      <th>flink</th>\n",
       "      <th>mongo</th>\n",
       "      <th>google_an</th>\n",
       "      <th>job_title_sim</th>\n",
       "      <th>seniority_by_title</th>\n",
       "      <th>Degree</th>\n",
       "    </tr>\n",
       "    <tr>\n",
       "      <th>index</th>\n",
       "      <th></th>\n",
       "      <th></th>\n",
       "      <th></th>\n",
       "      <th></th>\n",
       "      <th></th>\n",
       "      <th></th>\n",
       "      <th></th>\n",
       "      <th></th>\n",
       "      <th></th>\n",
       "      <th></th>\n",
       "      <th></th>\n",
       "      <th></th>\n",
       "      <th></th>\n",
       "      <th></th>\n",
       "      <th></th>\n",
       "      <th></th>\n",
       "      <th></th>\n",
       "      <th></th>\n",
       "      <th></th>\n",
       "      <th></th>\n",
       "      <th></th>\n",
       "    </tr>\n",
       "  </thead>\n",
       "  <tbody>\n",
       "    <tr>\n",
       "      <th>0</th>\n",
       "      <td>Data Scientist</td>\n",
       "      <td>$53K-$91K (Glassdoor est.)</td>\n",
       "      <td>Data Scientist\\nLocation: Albuquerque, NM\\nEdu...</td>\n",
       "      <td>3.8</td>\n",
       "      <td>Tecolote Research\\n3.8</td>\n",
       "      <td>Albuquerque, NM</td>\n",
       "      <td>Goleta, CA</td>\n",
       "      <td>501 - 1000</td>\n",
       "      <td>1973</td>\n",
       "      <td>Company - Private</td>\n",
       "      <td>...</td>\n",
       "      <td>0</td>\n",
       "      <td>0</td>\n",
       "      <td>1</td>\n",
       "      <td>1</td>\n",
       "      <td>0</td>\n",
       "      <td>0</td>\n",
       "      <td>0</td>\n",
       "      <td>data scientist</td>\n",
       "      <td>na</td>\n",
       "      <td>M</td>\n",
       "    </tr>\n",
       "    <tr>\n",
       "      <th>1</th>\n",
       "      <td>Healthcare Data Scientist</td>\n",
       "      <td>$63K-$112K (Glassdoor est.)</td>\n",
       "      <td>What You Will Do:\\n\\nI. General Summary\\n\\nThe...</td>\n",
       "      <td>3.4</td>\n",
       "      <td>University of Maryland Medical System\\n3.4</td>\n",
       "      <td>Linthicum, MD</td>\n",
       "      <td>Baltimore, MD</td>\n",
       "      <td>10000+</td>\n",
       "      <td>1984</td>\n",
       "      <td>Other Organization</td>\n",
       "      <td>...</td>\n",
       "      <td>0</td>\n",
       "      <td>0</td>\n",
       "      <td>0</td>\n",
       "      <td>0</td>\n",
       "      <td>0</td>\n",
       "      <td>0</td>\n",
       "      <td>0</td>\n",
       "      <td>data scientist</td>\n",
       "      <td>na</td>\n",
       "      <td>M</td>\n",
       "    </tr>\n",
       "    <tr>\n",
       "      <th>2</th>\n",
       "      <td>Data Scientist</td>\n",
       "      <td>$80K-$90K (Glassdoor est.)</td>\n",
       "      <td>KnowBe4, Inc. is a high growth information sec...</td>\n",
       "      <td>4.8</td>\n",
       "      <td>KnowBe4\\n4.8</td>\n",
       "      <td>Clearwater, FL</td>\n",
       "      <td>Clearwater, FL</td>\n",
       "      <td>501 - 1000</td>\n",
       "      <td>2010</td>\n",
       "      <td>Company - Private</td>\n",
       "      <td>...</td>\n",
       "      <td>0</td>\n",
       "      <td>0</td>\n",
       "      <td>0</td>\n",
       "      <td>0</td>\n",
       "      <td>0</td>\n",
       "      <td>0</td>\n",
       "      <td>0</td>\n",
       "      <td>data scientist</td>\n",
       "      <td>na</td>\n",
       "      <td>M</td>\n",
       "    </tr>\n",
       "    <tr>\n",
       "      <th>3</th>\n",
       "      <td>Data Scientist</td>\n",
       "      <td>$56K-$97K (Glassdoor est.)</td>\n",
       "      <td>*Organization and Job ID**\\nJob ID: 310709\\n\\n...</td>\n",
       "      <td>3.8</td>\n",
       "      <td>PNNL\\n3.8</td>\n",
       "      <td>Richland, WA</td>\n",
       "      <td>Richland, WA</td>\n",
       "      <td>1001 - 5000</td>\n",
       "      <td>1965</td>\n",
       "      <td>Government</td>\n",
       "      <td>...</td>\n",
       "      <td>0</td>\n",
       "      <td>0</td>\n",
       "      <td>0</td>\n",
       "      <td>0</td>\n",
       "      <td>0</td>\n",
       "      <td>0</td>\n",
       "      <td>0</td>\n",
       "      <td>data scientist</td>\n",
       "      <td>na</td>\n",
       "      <td>na</td>\n",
       "    </tr>\n",
       "    <tr>\n",
       "      <th>4</th>\n",
       "      <td>Data Scientist</td>\n",
       "      <td>$86K-$143K (Glassdoor est.)</td>\n",
       "      <td>Data Scientist\\nAffinity Solutions / Marketing...</td>\n",
       "      <td>2.9</td>\n",
       "      <td>Affinity Solutions\\n2.9</td>\n",
       "      <td>New York, NY</td>\n",
       "      <td>New York, NY</td>\n",
       "      <td>51 - 200</td>\n",
       "      <td>1998</td>\n",
       "      <td>Company - Private</td>\n",
       "      <td>...</td>\n",
       "      <td>0</td>\n",
       "      <td>0</td>\n",
       "      <td>0</td>\n",
       "      <td>0</td>\n",
       "      <td>0</td>\n",
       "      <td>0</td>\n",
       "      <td>0</td>\n",
       "      <td>data scientist</td>\n",
       "      <td>na</td>\n",
       "      <td>na</td>\n",
       "    </tr>\n",
       "  </tbody>\n",
       "</table>\n",
       "<p>5 rows × 41 columns</p>\n",
       "</div>"
      ],
      "text/plain": [
       "                       Job Title              Salary Estimate  \\\n",
       "index                                                           \n",
       "0                 Data Scientist   $53K-$91K (Glassdoor est.)   \n",
       "1      Healthcare Data Scientist  $63K-$112K (Glassdoor est.)   \n",
       "2                 Data Scientist   $80K-$90K (Glassdoor est.)   \n",
       "3                 Data Scientist   $56K-$97K (Glassdoor est.)   \n",
       "4                 Data Scientist  $86K-$143K (Glassdoor est.)   \n",
       "\n",
       "                                         Job Description  Rating  \\\n",
       "index                                                              \n",
       "0      Data Scientist\\nLocation: Albuquerque, NM\\nEdu...     3.8   \n",
       "1      What You Will Do:\\n\\nI. General Summary\\n\\nThe...     3.4   \n",
       "2      KnowBe4, Inc. is a high growth information sec...     4.8   \n",
       "3      *Organization and Job ID**\\nJob ID: 310709\\n\\n...     3.8   \n",
       "4      Data Scientist\\nAffinity Solutions / Marketing...     2.9   \n",
       "\n",
       "                                     Company Name         Location  \\\n",
       "index                                                                \n",
       "0                          Tecolote Research\\n3.8  Albuquerque, NM   \n",
       "1      University of Maryland Medical System\\n3.4    Linthicum, MD   \n",
       "2                                    KnowBe4\\n4.8   Clearwater, FL   \n",
       "3                                       PNNL\\n3.8     Richland, WA   \n",
       "4                         Affinity Solutions\\n2.9     New York, NY   \n",
       "\n",
       "         Headquarters          Size  Founded   Type of ownership  ... tensor  \\\n",
       "index                                                             ...          \n",
       "0          Goleta, CA   501 - 1000      1973   Company - Private  ...      0   \n",
       "1       Baltimore, MD       10000+      1984  Other Organization  ...      0   \n",
       "2      Clearwater, FL   501 - 1000      2010   Company - Private  ...      0   \n",
       "3        Richland, WA  1001 - 5000      1965          Government  ...      0   \n",
       "4        New York, NY     51 - 200      1998   Company - Private  ...      0   \n",
       "\n",
       "      hadoop tableau bi  flink  mongo  google_an   job_title_sim  \\\n",
       "index                                                              \n",
       "0          0       1  1      0      0          0  data scientist   \n",
       "1          0       0  0      0      0          0  data scientist   \n",
       "2          0       0  0      0      0          0  data scientist   \n",
       "3          0       0  0      0      0          0  data scientist   \n",
       "4          0       0  0      0      0          0  data scientist   \n",
       "\n",
       "       seniority_by_title Degree  \n",
       "index                             \n",
       "0                      na      M  \n",
       "1                      na      M  \n",
       "2                      na      M  \n",
       "3                      na     na  \n",
       "4                      na     na  \n",
       "\n",
       "[5 rows x 41 columns]"
      ]
     },
     "execution_count": 3,
     "metadata": {},
     "output_type": "execute_result"
    }
   ],
   "source": [
    "salary_df = pd.read_csv('data_cleaned_2021.csv',index_col='index')\n",
    "salary_df.head()"
   ]
  },
  {
   "cell_type": "markdown",
   "id": "108dca87",
   "metadata": {},
   "source": [
    "### Dữ liệu gồm có bao nhiêu dòng và bao nhiêu cột?"
   ]
  },
  {
   "cell_type": "markdown",
   "id": "b53fe2d0",
   "metadata": {},
   "source": [
    "Tính số dòng và số cột sau đó lưu vào 2 biến num_rows và num_cols."
   ]
  },
  {
   "cell_type": "code",
   "execution_count": 4,
   "id": "09545ecd",
   "metadata": {},
   "outputs": [
    {
     "name": "stdout",
     "output_type": "stream",
     "text": [
      "742\n",
      "41\n"
     ]
    }
   ],
   "source": [
    "num_rows=salary_df.shape[0]\n",
    "num_cols=salary_df.shape[1]\n",
    "print(num_rows)\n",
    "print(num_cols)"
   ]
  },
  {
   "cell_type": "markdown",
   "id": "8aa35351",
   "metadata": {},
   "source": [
    "Dữ liệu có 742 dòng và 41 cột."
   ]
  },
  {
   "cell_type": "markdown",
   "id": "5be5bd9b",
   "metadata": {},
   "source": [
    "### Mỗi dòng có ý nghĩa gì? Có vấn đề các dòng có ý nghĩa khác nhau không?"
   ]
  },
  {
   "cell_type": "markdown",
   "id": "c48380e9",
   "metadata": {},
   "source": [
    "Mỗi dòng cho ta biết các thông tin liên quan đến công việc và mức lương của công việc đó. \n",
    "\n",
    "Các dòng có ý nghĩa giống nhau."
   ]
  },
  {
   "cell_type": "markdown",
   "id": "8114dc20",
   "metadata": {},
   "source": [
    "### Dữ liệu có các dòng bị lặp không?"
   ]
  },
  {
   "cell_type": "markdown",
   "id": "fd097431",
   "metadata": {},
   "source": [
    "kiểm tra và lưu kết quả vào biến 'dup'. Biến này sẽ có giá trị là số lượng dòng bị lặp."
   ]
  },
  {
   "cell_type": "code",
   "execution_count": 5,
   "id": "4da99f2e",
   "metadata": {},
   "outputs": [
    {
     "data": {
      "text/plain": [
       "275"
      ]
     },
     "execution_count": 5,
     "metadata": {},
     "output_type": "execute_result"
    }
   ],
   "source": [
    "dup=salary_df.duplicated().sum()\n",
    "dup"
   ]
  },
  {
   "cell_type": "markdown",
   "id": "ac8afe24",
   "metadata": {},
   "source": [
    "Người đăng tải dữ liệu nói rằng họ đã loại bỏ các dòng trùng nhưng không hiểu sao chúng ta tính vẫn còn các dòng trùng."
   ]
  },
  {
   "cell_type": "markdown",
   "id": "4ff9c409",
   "metadata": {},
   "source": [
    "Vậy thì chúng ta phải loại bỏ các dòng trùng."
   ]
  },
  {
   "cell_type": "code",
   "execution_count": 6,
   "id": "59e289d2",
   "metadata": {},
   "outputs": [],
   "source": [
    "salary_df=salary_df.drop_duplicates()"
   ]
  },
  {
   "cell_type": "code",
   "execution_count": 7,
   "id": "7188727a",
   "metadata": {},
   "outputs": [
    {
     "data": {
      "text/plain": [
       "(467, 41)"
      ]
     },
     "execution_count": 7,
     "metadata": {},
     "output_type": "execute_result"
    }
   ],
   "source": [
    "salary_df.shape"
   ]
  },
  {
   "cell_type": "markdown",
   "id": "e7f592d7",
   "metadata": {},
   "source": [
    "Lúc này dữ liệu giảm từ 742 dòng xuống còn 467 dòng."
   ]
  },
  {
   "cell_type": "markdown",
   "id": "bb574bb4",
   "metadata": {},
   "source": [
    "### Mỗi cột có ý nghĩa gì?"
   ]
  },
  {
   "cell_type": "markdown",
   "id": "2276c569",
   "metadata": {},
   "source": [
    "Dưới đây là phần mô tả của về các cột trong file \"data_cleaned_2021.csv\":"
   ]
  },
  {
   "cell_type": "markdown",
   "id": "d9c41cbf",
   "metadata": {},
   "source": [
    "index: index\n",
    "\n",
    "Job Title: Chức danh của công việc, eg. Data scientist, junior data scientist, senior data scientist etc\n",
    "\n",
    "Salary Estimate: Mức lương và nguồn\n",
    "\n",
    "Job Description: Cho biết những phẩm chất mà công ty mong muốn và những gì được mong đợi từ chức danh công việc\n",
    "\n",
    "Rating: đánh giá của công ty\n",
    "\n",
    "Company Name: tên công ty\n",
    "\n",
    "Location: Vị trí của công việc\n",
    "\n",
    "Headquarters: Địa điểm đặt trụ sở chính của công ty\n",
    "\n",
    "Size: số lượng nhân viên làm việc trong công ty\n",
    "\n",
    "Founded: Công ty được thành lập vào năm\n",
    "\n",
    "Type of ownership: Cho chúng ta biết công ty thuộc sở hữu tư nhân, công cộng hay chính phủ\n",
    "\n",
    "Industry: Các ngành như công nghiệp CNTT, công nghiệp dược phẩm, v.v.\n",
    "\n",
    "Sector: Lĩnh vực mà công ty hoạt động\n",
    "\n",
    "Revenue: Tổng doanh thu của công ty mỗi năm\n",
    "\n",
    "Competitors: Các đối thủ cạnh tranh hiện tại của công ty\n",
    "\n",
    "Hourly: 1: Nếu lương được báo cáo theo giờ. 0: Nếu không\n",
    "\n",
    "Employer provided: 1: Nếu mức lương được cung cấp bởi người sử dụng lao động 0: Nếu không\n",
    "\n",
    "Lower Salary: Mức lương tối thiểu được báo cáo cho công việc trong một công ty cụ thể\n",
    "\n",
    "Upper Salary: Mức lương tối đa được báo cáo cho công việc trong một công ty cụ thể\n",
    "\n",
    "Avg Salary(K): Mức lương trung bình được báo cáo cho công việc trong một công ty cụ thể\n",
    "\n",
    "company_txt: tên công ty\n",
    "\n",
    "Job Location: vị trí của công việc (bang nào)\n",
    "\n",
    "Age: tuổi công ty\n",
    "\n",
    "Python,spark,aws,excel,sql,sas,keras,pytorch,scikit,tensor,hadoop,tableau,bi,flink,mongo,google_an: các kỹ năng yêu cầu (1: nếu kỹ năng cần thiết 0: nếu ngược lại)\n",
    "\n",
    "job_title_sim: Chức danh đơn giản\n",
    "\n",
    "seniority_by_title: Thâm niên trong chức danh\n",
    "\n",
    "Degree: trình độ (M: Nếu chức danh công việc yêu cầu hoặc cung cấp số năm kinh nghiệm để có được nó, P: Nếu chức danh công việc yêu cầu hoặc cung cấp số năm kinh nghiệm để có được nó)"
   ]
  },
  {
   "cell_type": "markdown",
   "id": "a8012f76",
   "metadata": {},
   "source": [
    "### Mỗi cột hiện đang có kiểu dữ liệu gì? Có cột nào có kiểu dữ liệu chưa phù hợp để có thể xử lý tiếp không?"
   ]
  },
  {
   "cell_type": "code",
   "execution_count": 8,
   "id": "34694cd5",
   "metadata": {},
   "outputs": [
    {
     "data": {
      "text/plain": [
       "Job Title              object\n",
       "Salary Estimate        object\n",
       "Job Description        object\n",
       "Rating                float64\n",
       "Company Name           object\n",
       "Location               object\n",
       "Headquarters           object\n",
       "Size                   object\n",
       "Founded                 int64\n",
       "Type of ownership      object\n",
       "Industry               object\n",
       "Sector                 object\n",
       "Revenue                object\n",
       "Competitors            object\n",
       "Hourly                  int64\n",
       "Employer provided       int64\n",
       "Lower Salary            int64\n",
       "Upper Salary            int64\n",
       "Avg Salary(K)         float64\n",
       "company_txt            object\n",
       "Job Location           object\n",
       "Age                     int64\n",
       "Python                  int64\n",
       "spark                   int64\n",
       "aws                     int64\n",
       "excel                   int64\n",
       "sql                     int64\n",
       "sas                     int64\n",
       "keras                   int64\n",
       "pytorch                 int64\n",
       "scikit                  int64\n",
       "tensor                  int64\n",
       "hadoop                  int64\n",
       "tableau                 int64\n",
       "bi                      int64\n",
       "flink                   int64\n",
       "mongo                   int64\n",
       "google_an               int64\n",
       "job_title_sim          object\n",
       "seniority_by_title     object\n",
       "Degree                 object\n",
       "dtype: object"
      ]
     },
     "execution_count": 8,
     "metadata": {},
     "output_type": "execute_result"
    }
   ],
   "source": [
    "col_dtypes=salary_df.dtypes\n",
    "col_dtypes"
   ]
  },
  {
   "cell_type": "markdown",
   "id": "c796640a",
   "metadata": {},
   "source": [
    "### Cột có dtype là object nghĩa là sao?"
   ]
  },
  {
   "cell_type": "markdown",
   "id": "580dc43e",
   "metadata": {},
   "source": [
    "Trong Pandas, kiểu dữ liệu object thường ám chỉ chuỗi, nhưng thật ra kiểu dữ liệu object có thể chứa một đối tượng bất kỳ trong Python (vì thật ra ở bên dưới kiểu dữ liệu object chứa địa chỉ). Nếu một cột trong dataframe có dtype là object thì có thể các phần tử trong cột này sẽ có kiểu dữ liệu khác nhau; để biết được kiểu dữ liệu thật sự của các phần tử trong cột này thì ta phải truy xuất vào từng phần tử và dùng câu lệnh type để xem kiểu dữ liệu."
   ]
  },
  {
   "cell_type": "code",
   "execution_count": 9,
   "id": "229ff30d",
   "metadata": {},
   "outputs": [],
   "source": [
    "def open_object_dtype(s):\n",
    "    dtypes = set()\n",
    "\n",
    "    # YOUR CODE HERE\n",
    "    s=s.apply(type)\n",
    "    dtypes.update(s.unique().tolist())\n",
    "    \n",
    "    return dtypes"
   ]
  },
  {
   "cell_type": "code",
   "execution_count": 10,
   "id": "a90579f7",
   "metadata": {},
   "outputs": [
    {
     "name": "stdout",
     "output_type": "stream",
     "text": [
      "{<class 'str'>}\n",
      "{<class 'str'>}\n",
      "{<class 'str'>}\n",
      "{<class 'str'>}\n",
      "{<class 'str'>}\n",
      "{<class 'str'>}\n",
      "{<class 'str'>}\n",
      "{<class 'str'>}\n",
      "{<class 'str'>}\n",
      "{<class 'str'>}\n",
      "{<class 'str'>}\n",
      "{<class 'str'>}\n",
      "{<class 'str'>}\n",
      "{<class 'str'>}\n",
      "{<class 'str'>}\n",
      "{<class 'str'>}\n",
      "{<class 'str'>}\n"
     ]
    }
   ],
   "source": [
    "print(open_object_dtype(salary_df['Job Title']))\n",
    "print(open_object_dtype(salary_df['Salary Estimate']))\n",
    "print(open_object_dtype(salary_df['Job Description']))\n",
    "print(open_object_dtype(salary_df['Company Name']))\n",
    "print(open_object_dtype(salary_df['Location']))\n",
    "print(open_object_dtype(salary_df['Headquarters']))\n",
    "print(open_object_dtype(salary_df['Size']))\n",
    "print(open_object_dtype(salary_df['Type of ownership']))\n",
    "print(open_object_dtype(salary_df['Industry']))\n",
    "print(open_object_dtype(salary_df['Sector']))\n",
    "print(open_object_dtype(salary_df['Revenue']))\n",
    "print(open_object_dtype(salary_df['Competitors']))\n",
    "print(open_object_dtype(salary_df['company_txt']))\n",
    "print(open_object_dtype(salary_df['Job Location']))\n",
    "print(open_object_dtype(salary_df['job_title_sim']))\n",
    "print(open_object_dtype(salary_df['seniority_by_title']))\n",
    "print(open_object_dtype(salary_df['Degree']))"
   ]
  },
  {
   "cell_type": "markdown",
   "id": "83a7d37c",
   "metadata": {},
   "source": [
    "Vậy là các cột đều có kiểu dữ liệu là chuỗi, chúng ta không cần xử lý gì thêm."
   ]
  },
  {
   "cell_type": "markdown",
   "id": "6eb9b57b",
   "metadata": {},
   "source": [
    "### Với mỗi cột có kiểu dữ liệu dạng numeric, các giá trị được phân bố như thế nào?"
   ]
  },
  {
   "cell_type": "markdown",
   "id": "ab3a1748",
   "metadata": {},
   "source": [
    "Các cột dữ liệu dạng numeric là: Rating, Founded, Lower Salary, Upper Salary, Avg Salary(K), Age"
   ]
  },
  {
   "cell_type": "markdown",
   "id": "1065dbe7",
   "metadata": {},
   "source": [
    "Với mỗi cột numeric ta sẽ tính tỉ lệ % giá trị thiếu (từ 0 đến 100), min, max. Sau đó lưu kết quả vào dataframe 'nume_col_df'. Dataframe này có 3 dòng là \"missing_ratio\", \"min\", \"max\"; và có 6 cột là \"Rating\", \"Founded\", \"Lower Salary\", \"Upper Salary\",\"Avg Salary(K)\",\"Age\"."
   ]
  },
  {
   "cell_type": "code",
   "execution_count": 31,
   "id": "9699460d",
   "metadata": {},
   "outputs": [],
   "source": [
    "def XuLy(df,nume_col_df,columnName):\n",
    "    list_values=[((df[columnName].isna().sum()/df[columnName].size)*100),\n",
    "    (df[columnName].min()),\n",
    "    (df[columnName].max())]\n",
    "    nume_col_df[columnName]=list_values"
   ]
  },
  {
   "cell_type": "code",
   "execution_count": 32,
   "id": "ca41c45a",
   "metadata": {},
   "outputs": [],
   "source": [
    "cols=['Rating', 'Founded', 'Lower Salary', 'Upper Salary','Avg Salary(K)','Age']\n",
    "rows=['missing_ratio', 'min', 'max']\n",
    "nume_col_df=pd.DataFrame(index=rows,columns=cols)\n",
    "XuLy(salary_df,nume_col_df,'Rating')\n",
    "XuLy(salary_df,nume_col_df,'Founded')\n",
    "XuLy(salary_df,nume_col_df,'Lower Salary')\n",
    "XuLy(salary_df,nume_col_df,'Upper Salary')\n",
    "XuLy(salary_df,nume_col_df,'Avg Salary(K)')\n",
    "XuLy(salary_df,nume_col_df,'Age')"
   ]
  },
  {
   "cell_type": "code",
   "execution_count": 33,
   "id": "3c568217",
   "metadata": {},
   "outputs": [
    {
     "data": {
      "text/html": [
       "<div>\n",
       "<style scoped>\n",
       "    .dataframe tbody tr th:only-of-type {\n",
       "        vertical-align: middle;\n",
       "    }\n",
       "\n",
       "    .dataframe tbody tr th {\n",
       "        vertical-align: top;\n",
       "    }\n",
       "\n",
       "    .dataframe thead th {\n",
       "        text-align: right;\n",
       "    }\n",
       "</style>\n",
       "<table border=\"1\" class=\"dataframe\">\n",
       "  <thead>\n",
       "    <tr style=\"text-align: right;\">\n",
       "      <th></th>\n",
       "      <th>Rating</th>\n",
       "      <th>Founded</th>\n",
       "      <th>Lower Salary</th>\n",
       "      <th>Upper Salary</th>\n",
       "      <th>Avg Salary(K)</th>\n",
       "      <th>Age</th>\n",
       "    </tr>\n",
       "  </thead>\n",
       "  <tbody>\n",
       "    <tr>\n",
       "      <th>missing_ratio</th>\n",
       "      <td>0.0</td>\n",
       "      <td>0.0</td>\n",
       "      <td>0.0</td>\n",
       "      <td>0.0</td>\n",
       "      <td>0.0</td>\n",
       "      <td>0.0</td>\n",
       "    </tr>\n",
       "    <tr>\n",
       "      <th>min</th>\n",
       "      <td>-1.0</td>\n",
       "      <td>-1.0</td>\n",
       "      <td>15.0</td>\n",
       "      <td>16.0</td>\n",
       "      <td>15.5</td>\n",
       "      <td>-1.0</td>\n",
       "    </tr>\n",
       "    <tr>\n",
       "      <th>max</th>\n",
       "      <td>5.0</td>\n",
       "      <td>2019.0</td>\n",
       "      <td>202.0</td>\n",
       "      <td>306.0</td>\n",
       "      <td>254.0</td>\n",
       "      <td>277.0</td>\n",
       "    </tr>\n",
       "  </tbody>\n",
       "</table>\n",
       "</div>"
      ],
      "text/plain": [
       "               Rating  Founded  Lower Salary  Upper Salary  Avg Salary(K)  \\\n",
       "missing_ratio     0.0      0.0           0.0           0.0            0.0   \n",
       "min              -1.0     -1.0          15.0          16.0           15.5   \n",
       "max               5.0   2019.0         202.0         306.0          254.0   \n",
       "\n",
       "                 Age  \n",
       "missing_ratio    0.0  \n",
       "min             -1.0  \n",
       "max            277.0  "
      ]
     },
     "execution_count": 33,
     "metadata": {},
     "output_type": "execute_result"
    }
   ],
   "source": [
    "nume_col_df"
   ]
  },
  {
   "cell_type": "markdown",
   "id": "248e8143",
   "metadata": {},
   "source": [
    "min của 3 cột Rating, Founded và Age có vẻ bất thường. Giá trị của 3 cột này không thể là số âm được.\n",
    "\n",
    "Có vẻ -1 tượng trưng cho missing values trong tập dữ liệu này."
   ]
  },
  {
   "cell_type": "markdown",
   "id": "5825fd91",
   "metadata": {},
   "source": [
    "### Vấn đề cần tiền xử lý"
   ]
  },
  {
   "cell_type": "markdown",
   "id": "b8c283ca",
   "metadata": {},
   "source": [
    "-Ở 3 cột 'Rating','Founded','Age' chúng ta sẽ loại bỏ những dòng có giá trị -1 vì những dòng này có vẻ tượng trưng cho missing values."
   ]
  },
  {
   "cell_type": "markdown",
   "id": "e7113e23",
   "metadata": {},
   "source": [
    "### Tiền xử lý"
   ]
  },
  {
   "cell_type": "markdown",
   "id": "72880476",
   "metadata": {},
   "source": [
    "Ta sẽ loại bỏ các giá trị -1 ở cột 'Rating', 'Founded','Age'."
   ]
  },
  {
   "cell_type": "code",
   "execution_count": 34,
   "id": "6ee63735",
   "metadata": {},
   "outputs": [],
   "source": [
    "new_df=salary_df[salary_df['Rating']>-1]\n",
    "new_df=new_df[new_df['Founded']>-1]\n",
    "new_df=new_df[new_df['Age']>-1]"
   ]
  },
  {
   "cell_type": "markdown",
   "id": "22a682fd",
   "metadata": {},
   "source": [
    "Lúc này min của các cột sẽ trở nên bình thường."
   ]
  },
  {
   "cell_type": "code",
   "execution_count": 35,
   "id": "2a27c1cb",
   "metadata": {},
   "outputs": [],
   "source": [
    "cols=['Rating', 'Founded', 'Lower Salary', 'Upper Salary','Avg Salary(K)','Age']\n",
    "rows=['missing_ratio', 'min', 'max']\n",
    "nume_col_df=pd.DataFrame(index=rows,columns=cols)\n",
    "XuLy(new_df,nume_col_df,'Rating')\n",
    "XuLy(new_df,nume_col_df,'Founded')\n",
    "XuLy(new_df,nume_col_df,'Lower Salary')\n",
    "XuLy(new_df,nume_col_df,'Upper Salary')\n",
    "XuLy(new_df,nume_col_df,'Avg Salary(K)')\n",
    "XuLy(new_df,nume_col_df,'Age')"
   ]
  },
  {
   "cell_type": "code",
   "execution_count": 36,
   "id": "cb3a6288",
   "metadata": {},
   "outputs": [
    {
     "data": {
      "text/html": [
       "<div>\n",
       "<style scoped>\n",
       "    .dataframe tbody tr th:only-of-type {\n",
       "        vertical-align: middle;\n",
       "    }\n",
       "\n",
       "    .dataframe tbody tr th {\n",
       "        vertical-align: top;\n",
       "    }\n",
       "\n",
       "    .dataframe thead th {\n",
       "        text-align: right;\n",
       "    }\n",
       "</style>\n",
       "<table border=\"1\" class=\"dataframe\">\n",
       "  <thead>\n",
       "    <tr style=\"text-align: right;\">\n",
       "      <th></th>\n",
       "      <th>Rating</th>\n",
       "      <th>Founded</th>\n",
       "      <th>Lower Salary</th>\n",
       "      <th>Upper Salary</th>\n",
       "      <th>Avg Salary(K)</th>\n",
       "      <th>Age</th>\n",
       "    </tr>\n",
       "  </thead>\n",
       "  <tbody>\n",
       "    <tr>\n",
       "      <th>missing_ratio</th>\n",
       "      <td>0.0</td>\n",
       "      <td>0.0</td>\n",
       "      <td>0.0</td>\n",
       "      <td>0.0</td>\n",
       "      <td>0.0</td>\n",
       "      <td>0.0</td>\n",
       "    </tr>\n",
       "    <tr>\n",
       "      <th>min</th>\n",
       "      <td>1.9</td>\n",
       "      <td>1744.0</td>\n",
       "      <td>15.0</td>\n",
       "      <td>16.0</td>\n",
       "      <td>15.5</td>\n",
       "      <td>2.0</td>\n",
       "    </tr>\n",
       "    <tr>\n",
       "      <th>max</th>\n",
       "      <td>5.0</td>\n",
       "      <td>2019.0</td>\n",
       "      <td>202.0</td>\n",
       "      <td>306.0</td>\n",
       "      <td>254.0</td>\n",
       "      <td>277.0</td>\n",
       "    </tr>\n",
       "  </tbody>\n",
       "</table>\n",
       "</div>"
      ],
      "text/plain": [
       "               Rating  Founded  Lower Salary  Upper Salary  Avg Salary(K)  \\\n",
       "missing_ratio     0.0      0.0           0.0           0.0            0.0   \n",
       "min               1.9   1744.0          15.0          16.0           15.5   \n",
       "max               5.0   2019.0         202.0         306.0          254.0   \n",
       "\n",
       "                 Age  \n",
       "missing_ratio    0.0  \n",
       "min              2.0  \n",
       "max            277.0  "
      ]
     },
     "execution_count": 36,
     "metadata": {},
     "output_type": "execute_result"
    }
   ],
   "source": [
    "nume_col_df"
   ]
  },
  {
   "cell_type": "markdown",
   "id": "29ba2247",
   "metadata": {},
   "source": [
    "### Với mỗi cột có kiểu dữ liệu dạng categorical, các giá trị được phân bố như thế nào?"
   ]
  },
  {
   "cell_type": "markdown",
   "id": "6e4feead",
   "metadata": {},
   "source": [
    "Các cột có kiểu dữ liệu dạng categorical là các cột còn lại khác các cột numeric.\n",
    "\n",
    "Với mỗi cột categorical ta sẽ tính tỉ lệ % giá trị thiếu (từ 0 đến 100), min, max. Sau đó lưu kết quả vào dataframe 'cate_col_df'. Dataframe này có 3 dòng là \"missing_ratio\", \"min\", \"max\"; và có 35 cột là các cột khác các cột numeric."
   ]
  },
  {
   "cell_type": "code",
   "execution_count": 37,
   "id": "50798fb2",
   "metadata": {},
   "outputs": [],
   "source": [
    "cate_df=new_df.drop(columns=cols)"
   ]
  },
  {
   "cell_type": "code",
   "execution_count": 39,
   "id": "623a3600",
   "metadata": {},
   "outputs": [],
   "source": [
    "cate_col_df=pd.DataFrame(index=rows,columns=cate_df.columns)\n",
    "for i in cate_df.columns:\n",
    "    XuLy(salary_df,cate_col_df,i)"
   ]
  },
  {
   "cell_type": "code",
   "execution_count": 40,
   "id": "326d734c",
   "metadata": {},
   "outputs": [
    {
     "data": {
      "text/html": [
       "<div>\n",
       "<style scoped>\n",
       "    .dataframe tbody tr th:only-of-type {\n",
       "        vertical-align: middle;\n",
       "    }\n",
       "\n",
       "    .dataframe tbody tr th {\n",
       "        vertical-align: top;\n",
       "    }\n",
       "\n",
       "    .dataframe thead th {\n",
       "        text-align: right;\n",
       "    }\n",
       "</style>\n",
       "<table border=\"1\" class=\"dataframe\">\n",
       "  <thead>\n",
       "    <tr style=\"text-align: right;\">\n",
       "      <th></th>\n",
       "      <th>Job Title</th>\n",
       "      <th>Salary Estimate</th>\n",
       "      <th>Job Description</th>\n",
       "      <th>Company Name</th>\n",
       "      <th>Location</th>\n",
       "      <th>Headquarters</th>\n",
       "      <th>Size</th>\n",
       "      <th>Type of ownership</th>\n",
       "      <th>Industry</th>\n",
       "      <th>Sector</th>\n",
       "      <th>...</th>\n",
       "      <th>tensor</th>\n",
       "      <th>hadoop</th>\n",
       "      <th>tableau</th>\n",
       "      <th>bi</th>\n",
       "      <th>flink</th>\n",
       "      <th>mongo</th>\n",
       "      <th>google_an</th>\n",
       "      <th>job_title_sim</th>\n",
       "      <th>seniority_by_title</th>\n",
       "      <th>Degree</th>\n",
       "    </tr>\n",
       "  </thead>\n",
       "  <tbody>\n",
       "    <tr>\n",
       "      <th>missing_ratio</th>\n",
       "      <td>0.0</td>\n",
       "      <td>0.0</td>\n",
       "      <td>0.0</td>\n",
       "      <td>0.0</td>\n",
       "      <td>0.0</td>\n",
       "      <td>0.0</td>\n",
       "      <td>0.0</td>\n",
       "      <td>0.0</td>\n",
       "      <td>0.0</td>\n",
       "      <td>0.0</td>\n",
       "      <td>...</td>\n",
       "      <td>0.0</td>\n",
       "      <td>0.0</td>\n",
       "      <td>0.0</td>\n",
       "      <td>0.0</td>\n",
       "      <td>0.0</td>\n",
       "      <td>0.0</td>\n",
       "      <td>0.0</td>\n",
       "      <td>0.0</td>\n",
       "      <td>0.0</td>\n",
       "      <td>0.0</td>\n",
       "    </tr>\n",
       "    <tr>\n",
       "      <th>min</th>\n",
       "      <td>Ag Data Scientist</td>\n",
       "      <td>$10-$17 Per Hour(Glassdoor est.)</td>\n",
       "      <td>(We are unable to sponsor for this role now or...</td>\n",
       "      <td>1-800-FLOWERS.COM, Inc.\\n2.8</td>\n",
       "      <td>Agoura Hills, CA</td>\n",
       "      <td>-1</td>\n",
       "      <td>1 - 50</td>\n",
       "      <td>College / University</td>\n",
       "      <td>-1</td>\n",
       "      <td>-1</td>\n",
       "      <td>...</td>\n",
       "      <td>0.0</td>\n",
       "      <td>0.0</td>\n",
       "      <td>0.0</td>\n",
       "      <td>0.0</td>\n",
       "      <td>0.0</td>\n",
       "      <td>0.0</td>\n",
       "      <td>0.0</td>\n",
       "      <td>Data scientist project manager</td>\n",
       "      <td>jr</td>\n",
       "      <td>M</td>\n",
       "    </tr>\n",
       "    <tr>\n",
       "      <th>max</th>\n",
       "      <td>Web Data Analyst</td>\n",
       "      <td>Employer Provided Salary:$85K-$90K</td>\n",
       "      <td>­­Missile Systems provides many different high...</td>\n",
       "      <td>webfx.com\\n4.7</td>\n",
       "      <td>Worcester, MA</td>\n",
       "      <td>Zurich, Switzerland</td>\n",
       "      <td>unknown</td>\n",
       "      <td>Subsidiary or Business Segment</td>\n",
       "      <td>Wholesale</td>\n",
       "      <td>Travel &amp; Tourism</td>\n",
       "      <td>...</td>\n",
       "      <td>1.0</td>\n",
       "      <td>1.0</td>\n",
       "      <td>1.0</td>\n",
       "      <td>1.0</td>\n",
       "      <td>1.0</td>\n",
       "      <td>1.0</td>\n",
       "      <td>1.0</td>\n",
       "      <td>other scientist</td>\n",
       "      <td>sr</td>\n",
       "      <td>na</td>\n",
       "    </tr>\n",
       "  </tbody>\n",
       "</table>\n",
       "<p>3 rows × 35 columns</p>\n",
       "</div>"
      ],
      "text/plain": [
       "                       Job Title                     Salary Estimate  \\\n",
       "missing_ratio                0.0                                 0.0   \n",
       "min            Ag Data Scientist    $10-$17 Per Hour(Glassdoor est.)   \n",
       "max             Web Data Analyst  Employer Provided Salary:$85K-$90K   \n",
       "\n",
       "                                                 Job Description  \\\n",
       "missing_ratio                                                0.0   \n",
       "min            (We are unable to sponsor for this role now or...   \n",
       "max            ­­Missile Systems provides many different high...   \n",
       "\n",
       "                               Company Name          Location  \\\n",
       "missing_ratio                           0.0               0.0   \n",
       "min            1-800-FLOWERS.COM, Inc.\\n2.8  Agoura Hills, CA   \n",
       "max                          webfx.com\\n4.7     Worcester, MA   \n",
       "\n",
       "                      Headquarters     Size               Type of ownership  \\\n",
       "missing_ratio                  0.0      0.0                             0.0   \n",
       "min                             -1  1 - 50             College / University   \n",
       "max            Zurich, Switzerland  unknown  Subsidiary or Business Segment   \n",
       "\n",
       "                Industry            Sector  ... tensor hadoop  tableau   bi  \\\n",
       "missing_ratio        0.0               0.0  ...    0.0    0.0      0.0  0.0   \n",
       "min                   -1                -1  ...    0.0    0.0      0.0  0.0   \n",
       "max            Wholesale  Travel & Tourism  ...    1.0    1.0      1.0  1.0   \n",
       "\n",
       "              flink mongo  google_an                   job_title_sim  \\\n",
       "missing_ratio   0.0   0.0        0.0                             0.0   \n",
       "min             0.0   0.0        0.0  Data scientist project manager   \n",
       "max             1.0   1.0        1.0                 other scientist   \n",
       "\n",
       "               seniority_by_title  Degree  \n",
       "missing_ratio                 0.0     0.0  \n",
       "min                            jr       M  \n",
       "max                            sr      na  \n",
       "\n",
       "[3 rows x 35 columns]"
      ]
     },
     "execution_count": 40,
     "metadata": {},
     "output_type": "execute_result"
    }
   ],
   "source": [
    "cate_col_df"
   ]
  },
  {
   "cell_type": "markdown",
   "id": "015cc9c6",
   "metadata": {},
   "source": [
    "Ta thấy có những cột có giá trị min là -1, điều đó có nghĩa là có missing values trong dữ liệu."
   ]
  },
  {
   "cell_type": "markdown",
   "id": "d7fb4688",
   "metadata": {},
   "source": [
    "### Vấn đề cần xử lý"
   ]
  },
  {
   "cell_type": "markdown",
   "id": "c0dc0de7",
   "metadata": {},
   "source": [
    "-Loại bỏ các dòng có giá trị là -1 ở mỗi cột."
   ]
  },
  {
   "cell_type": "markdown",
   "id": "f30c8451",
   "metadata": {},
   "source": [
    "### Tiền xử lý"
   ]
  },
  {
   "cell_type": "markdown",
   "id": "ed1d6c3a",
   "metadata": {},
   "source": [
    "Ta sẽ loại bỏ tất cả các dòng có giá trị -1 ứng với mỗi cột."
   ]
  },
  {
   "cell_type": "code",
   "execution_count": 41,
   "id": "7f3d80cc",
   "metadata": {},
   "outputs": [],
   "source": [
    "def removeMissing(df,cols_list):\n",
    "    result_df=df\n",
    "    for col in cols_list:\n",
    "        result_df=result_df[result_df[col]!=\"-1\"]\n",
    "    return result_df"
   ]
  },
  {
   "cell_type": "code",
   "execution_count": 42,
   "id": "fe0afcfa",
   "metadata": {},
   "outputs": [],
   "source": [
    "cate_df=removeMissing(cate_df,cate_df.columns)"
   ]
  },
  {
   "cell_type": "markdown",
   "id": "ee19c91a",
   "metadata": {},
   "source": [
    "Lúc này min của các cột sẽ bình thường."
   ]
  },
  {
   "cell_type": "code",
   "execution_count": 44,
   "id": "5cda861d",
   "metadata": {},
   "outputs": [],
   "source": [
    "cate_col_df=pd.DataFrame(index=rows,columns=cate_df.columns)\n",
    "for i in cate_df.columns:\n",
    "    XuLy(cate_df,cate_col_df,i)"
   ]
  },
  {
   "cell_type": "code",
   "execution_count": 49,
   "id": "d4cd806a",
   "metadata": {},
   "outputs": [
    {
     "data": {
      "text/html": [
       "<div>\n",
       "<style scoped>\n",
       "    .dataframe tbody tr th:only-of-type {\n",
       "        vertical-align: middle;\n",
       "    }\n",
       "\n",
       "    .dataframe tbody tr th {\n",
       "        vertical-align: top;\n",
       "    }\n",
       "\n",
       "    .dataframe thead th {\n",
       "        text-align: right;\n",
       "    }\n",
       "</style>\n",
       "<table border=\"1\" class=\"dataframe\">\n",
       "  <thead>\n",
       "    <tr style=\"text-align: right;\">\n",
       "      <th></th>\n",
       "      <th>Job Title</th>\n",
       "      <th>Salary Estimate</th>\n",
       "      <th>Job Description</th>\n",
       "      <th>Company Name</th>\n",
       "      <th>Location</th>\n",
       "      <th>Headquarters</th>\n",
       "      <th>Size</th>\n",
       "      <th>Type of ownership</th>\n",
       "      <th>Industry</th>\n",
       "      <th>Sector</th>\n",
       "      <th>...</th>\n",
       "      <th>tensor</th>\n",
       "      <th>hadoop</th>\n",
       "      <th>tableau</th>\n",
       "      <th>bi</th>\n",
       "      <th>flink</th>\n",
       "      <th>mongo</th>\n",
       "      <th>google_an</th>\n",
       "      <th>job_title_sim</th>\n",
       "      <th>seniority_by_title</th>\n",
       "      <th>Degree</th>\n",
       "    </tr>\n",
       "  </thead>\n",
       "  <tbody>\n",
       "    <tr>\n",
       "      <th>missing_ratio</th>\n",
       "      <td>0.0</td>\n",
       "      <td>0.0</td>\n",
       "      <td>0.0</td>\n",
       "      <td>0.0</td>\n",
       "      <td>0.0</td>\n",
       "      <td>0.0</td>\n",
       "      <td>0.0</td>\n",
       "      <td>0.0</td>\n",
       "      <td>0.0</td>\n",
       "      <td>0.0</td>\n",
       "      <td>...</td>\n",
       "      <td>0.0</td>\n",
       "      <td>0.0</td>\n",
       "      <td>0.0</td>\n",
       "      <td>0.0</td>\n",
       "      <td>0.0</td>\n",
       "      <td>0.0</td>\n",
       "      <td>0.0</td>\n",
       "      <td>0.0</td>\n",
       "      <td>0.0</td>\n",
       "      <td>0.0</td>\n",
       "    </tr>\n",
       "    <tr>\n",
       "      <th>min</th>\n",
       "      <td>Assistant Director/Director, Office of Data Sc...</td>\n",
       "      <td>$100K-$160K (Glassdoor est.)</td>\n",
       "      <td>(We are unable to sponsor for this role now or...</td>\n",
       "      <td>1904labs\\n4.7</td>\n",
       "      <td>Agoura Hills, CA</td>\n",
       "      <td>Alameda, CA</td>\n",
       "      <td>1 - 50</td>\n",
       "      <td>Company - Private</td>\n",
       "      <td>Advertising &amp; Marketing</td>\n",
       "      <td>Aerospace &amp; Defense</td>\n",
       "      <td>...</td>\n",
       "      <td>0.0</td>\n",
       "      <td>0.0</td>\n",
       "      <td>0.0</td>\n",
       "      <td>0.0</td>\n",
       "      <td>0.0</td>\n",
       "      <td>0.0</td>\n",
       "      <td>0.0</td>\n",
       "      <td>analyst</td>\n",
       "      <td>jr</td>\n",
       "      <td>M</td>\n",
       "    </tr>\n",
       "    <tr>\n",
       "      <th>max</th>\n",
       "      <td>VP, Data Science</td>\n",
       "      <td>$98K-$182K (Glassdoor est.)</td>\n",
       "      <td>isn’t your usual company. Our work is powered ...</td>\n",
       "      <td>comScore\\n2.5</td>\n",
       "      <td>Woodbridge, NJ</td>\n",
       "      <td>Zurich, Switzerland</td>\n",
       "      <td>51 - 200</td>\n",
       "      <td>Subsidiary or Business Segment</td>\n",
       "      <td>Video Games</td>\n",
       "      <td>Travel &amp; Tourism</td>\n",
       "      <td>...</td>\n",
       "      <td>1.0</td>\n",
       "      <td>1.0</td>\n",
       "      <td>1.0</td>\n",
       "      <td>1.0</td>\n",
       "      <td>1.0</td>\n",
       "      <td>1.0</td>\n",
       "      <td>1.0</td>\n",
       "      <td>other scientist</td>\n",
       "      <td>sr</td>\n",
       "      <td>na</td>\n",
       "    </tr>\n",
       "  </tbody>\n",
       "</table>\n",
       "<p>3 rows × 35 columns</p>\n",
       "</div>"
      ],
      "text/plain": [
       "                                                       Job Title  \\\n",
       "missing_ratio                                                0.0   \n",
       "min            Assistant Director/Director, Office of Data Sc...   \n",
       "max                                             VP, Data Science   \n",
       "\n",
       "                            Salary Estimate  \\\n",
       "missing_ratio                           0.0   \n",
       "min            $100K-$160K (Glassdoor est.)   \n",
       "max             $98K-$182K (Glassdoor est.)   \n",
       "\n",
       "                                                 Job Description  \\\n",
       "missing_ratio                                                0.0   \n",
       "min            (We are unable to sponsor for this role now or...   \n",
       "max            isn’t your usual company. Our work is powered ...   \n",
       "\n",
       "                Company Name          Location         Headquarters  \\\n",
       "missing_ratio            0.0               0.0                  0.0   \n",
       "min            1904labs\\n4.7  Agoura Hills, CA          Alameda, CA   \n",
       "max            comScore\\n2.5    Woodbridge, NJ  Zurich, Switzerland   \n",
       "\n",
       "                    Size               Type of ownership  \\\n",
       "missing_ratio        0.0                             0.0   \n",
       "min              1 - 50                Company - Private   \n",
       "max            51 - 200   Subsidiary or Business Segment   \n",
       "\n",
       "                              Industry               Sector  ... tensor  \\\n",
       "missing_ratio                      0.0                  0.0  ...    0.0   \n",
       "min            Advertising & Marketing  Aerospace & Defense  ...    0.0   \n",
       "max                        Video Games     Travel & Tourism  ...    1.0   \n",
       "\n",
       "              hadoop  tableau   bi flink mongo  google_an    job_title_sim  \\\n",
       "missing_ratio    0.0      0.0  0.0   0.0   0.0        0.0              0.0   \n",
       "min              0.0      0.0  0.0   0.0   0.0        0.0          analyst   \n",
       "max              1.0      1.0  1.0   1.0   1.0        1.0  other scientist   \n",
       "\n",
       "               seniority_by_title  Degree  \n",
       "missing_ratio                 0.0     0.0  \n",
       "min                            jr       M  \n",
       "max                            sr      na  \n",
       "\n",
       "[3 rows x 35 columns]"
      ]
     },
     "execution_count": 49,
     "metadata": {},
     "output_type": "execute_result"
    }
   ],
   "source": [
    "cate_col_df"
   ]
  },
  {
   "cell_type": "markdown",
   "id": "8e6056d7",
   "metadata": {},
   "source": [
    "#### Vậy là chúng ta đã khám phá và hiểu dữ liệu cũng như tiền xử lý dữ liệu để có thể trả lời cho các câu hỏi."
   ]
  },
  {
   "cell_type": "markdown",
   "id": "7e90cfe6",
   "metadata": {},
   "source": [
    "### Các câu hỏi ý nghĩa cần trả lời"
   ]
  }
 ],
 "metadata": {
  "kernelspec": {
   "display_name": "Python 3 (ipykernel)",
   "language": "python",
   "name": "python3"
  },
  "language_info": {
   "codemirror_mode": {
    "name": "ipython",
    "version": 3
   },
   "file_extension": ".py",
   "mimetype": "text/x-python",
   "name": "python",
   "nbconvert_exporter": "python",
   "pygments_lexer": "ipython3",
   "version": "3.8.8"
  }
 },
 "nbformat": 4,
 "nbformat_minor": 5
}
