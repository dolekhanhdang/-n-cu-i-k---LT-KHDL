{
 "cells": [
  {
   "cell_type": "markdown",
   "id": "b728cf86",
   "metadata": {},
   "source": [
    "### Môn Lập trình cho khoa học dữ liệu\n",
    "#### Giảng viên: Trần Trung Kiên\n",
    "\n",
    "\n",
    "<h1><center>Đồ án cuối kỳ</center></h1>\n",
    "\n",
    "MSSV |\tHọ và tên | Tên tài khoản github\n",
    "--- | --- | ---\n",
    "19120186 |\tĐỗ Lê Khánh Đăng | dolekhanhdang\n",
    "19120412 |\tNguyễn Minh Tú   |  tuak123ax"
   ]
  },
  {
   "cell_type": "markdown",
   "id": "aa05e80c",
   "metadata": {},
   "source": [
    "### Table of Contents\n",
    "* [1. Về dữ liệu](#1)\n",
    "* [2. Khám phá dữ liệu](#2)\n",
    "    * [2.1. Các thư viện cần thiết](#2.1)\n",
    "    * [2.2. Đọc dữ liệu](#2.2)\n",
    "    * [2.3. Dữ liệu có bao nhiêu dòng và bao nhiêu cột?](#2.3)\n",
    "    * [2.4. Mỗi dòng có ý nghĩa gì? Có vấn đề các dòng có ý nghĩa khác nhau không?](#2.4)\n",
    "    * [2.5. Dữ liệu có các dòng bị lặp không?](#2.5)\n",
    "    * [2.6. Mỗi cột có ý nghĩa gì?](#2.6)\n",
    "    * [2.7. Mỗi cột hiện đang có kiểu dữ liệu gì? Có cột nào có kiểu dữ liệu chưa phù hợp để có thể xử lý tiếp không?](#2.7)\n",
    "    * [2.8. Cột có dtype là object nghĩa là sao?](#2.8)\n",
    "    * [2.9. Với mỗi cột có kiểu dữ liệu dạng số (numerical), các giá trị được phân bố như thế nào?](#2.9)\n",
    "    * [2.10. Với mỗi cột có kiểu dữ liệu dạng phân loại (categorical), các giá trị được phân bố như thế nào?](#2.10)\n",
    "* [3. Các câu hỏi ý nghĩa cần trả lời](#3)\n",
    "    * [Câu hỏi 1: Những công việc nào có mức lương trung bình cao nhất?](#3.1)\n",
    "    * [Câu hỏi 2: Trong tất cả các kỹ năng(Python,spark,aws,excel...), những kỹ năng nào là quan trọng nhất?](#3.2)\n",
    "    * [Câu hỏi 3: Mức lương của công ty có phụ thuộc vào size của công ty hay không, liệu có những khác nhau về kỹ năng đối với từng loại công việc giữa các size công ty không? ](#3.3)\n",
    "* [4. Nhìn lại quá trình làm đồ án](#4)\n",
    "* [5. Tài liệu tham kháo:](#5)"
   ]
  },
  {
   "cell_type": "markdown",
   "id": "10358eaa",
   "metadata": {},
   "source": [
    "### 1. Về dữ liệu <a class=\"anchor\" id=\"1\"></a>\n",
    "Dữ liệu này về lương của những công việc liên quan đến data: data scientist, data engineer, .... <br />\n",
    "Nguồn: https://www.kaggle.com/nikhilbhathi/data-scientist-salary-us-glassdoor. <br />\n",
    "Trong mục mô tả của dữ liệu:<br />\n",
    "- The dataset is scraped from the Glassdoor website using Selenium scrapper. After scrapping, the raw dataset was cleaned and made usable for performing data analysis and modelling. The dataset contains information about the minimum salary, maximum salary, average salary, job description, age of the company in years, etc.\n",
    "- Dữ liệu được lấy bằng cách scraped từ website của Glassdoor với Selenium scrapper. Sau khi lấy, dữ liệu đã được xử lý phù hợp cho phân tích dữ liệu và mô hình hóa. Tập dữ liệu chứa thông tin về mức lương tối thiểu, tối đa, trung bình, mô tả công việc, tuổi đời công ty,..\n",
    "- License: CC0 Public Domain"
   ]
  },
  {
   "cell_type": "markdown",
   "id": "f54aced6",
   "metadata": {},
   "source": [
    "### 2. Khám phá dữ liệu <a class=\"anchor\" id=\"2\"></a>"
   ]
  },
  {
   "cell_type": "markdown",
   "id": "5375f4d9",
   "metadata": {},
   "source": [
    "#### 2.1. Các thư viện cần thiết <a class=\"anchor\" id=\"2.1\"></a>"
   ]
  },
  {
   "cell_type": "code",
   "execution_count": 1,
   "id": "33910986",
   "metadata": {},
   "outputs": [],
   "source": [
    "import pandas as pd\n",
    "import numpy as np\n",
    "import plotly.express as px\n",
    "import plotly.graph_objects as go"
   ]
  },
  {
   "cell_type": "markdown",
   "id": "713e21f2",
   "metadata": {},
   "source": [
    "#### 2.2. Đọc dữ liệu <a class=\"anchor\" id=\"2.2\"></a>"
   ]
  },
  {
   "cell_type": "code",
   "execution_count": 2,
   "id": "a58d6f9f",
   "metadata": {
    "scrolled": true
   },
   "outputs": [
    {
     "data": {
      "text/html": [
       "<div>\n",
       "<style scoped>\n",
       "    .dataframe tbody tr th:only-of-type {\n",
       "        vertical-align: middle;\n",
       "    }\n",
       "\n",
       "    .dataframe tbody tr th {\n",
       "        vertical-align: top;\n",
       "    }\n",
       "\n",
       "    .dataframe thead th {\n",
       "        text-align: right;\n",
       "    }\n",
       "</style>\n",
       "<table border=\"1\" class=\"dataframe\">\n",
       "  <thead>\n",
       "    <tr style=\"text-align: right;\">\n",
       "      <th></th>\n",
       "      <th>Job Title</th>\n",
       "      <th>Salary Estimate</th>\n",
       "      <th>Job Description</th>\n",
       "      <th>Rating</th>\n",
       "      <th>Company Name</th>\n",
       "      <th>Location</th>\n",
       "      <th>Headquarters</th>\n",
       "      <th>Size</th>\n",
       "      <th>Founded</th>\n",
       "      <th>Type of ownership</th>\n",
       "      <th>...</th>\n",
       "      <th>tensor</th>\n",
       "      <th>hadoop</th>\n",
       "      <th>tableau</th>\n",
       "      <th>bi</th>\n",
       "      <th>flink</th>\n",
       "      <th>mongo</th>\n",
       "      <th>google_an</th>\n",
       "      <th>job_title_sim</th>\n",
       "      <th>seniority_by_title</th>\n",
       "      <th>Degree</th>\n",
       "    </tr>\n",
       "    <tr>\n",
       "      <th>index</th>\n",
       "      <th></th>\n",
       "      <th></th>\n",
       "      <th></th>\n",
       "      <th></th>\n",
       "      <th></th>\n",
       "      <th></th>\n",
       "      <th></th>\n",
       "      <th></th>\n",
       "      <th></th>\n",
       "      <th></th>\n",
       "      <th></th>\n",
       "      <th></th>\n",
       "      <th></th>\n",
       "      <th></th>\n",
       "      <th></th>\n",
       "      <th></th>\n",
       "      <th></th>\n",
       "      <th></th>\n",
       "      <th></th>\n",
       "      <th></th>\n",
       "      <th></th>\n",
       "    </tr>\n",
       "  </thead>\n",
       "  <tbody>\n",
       "    <tr>\n",
       "      <th>0</th>\n",
       "      <td>Data Scientist</td>\n",
       "      <td>$53K-$91K (Glassdoor est.)</td>\n",
       "      <td>Data Scientist\\r\\nLocation: Albuquerque, NM\\r\\...</td>\n",
       "      <td>3.8</td>\n",
       "      <td>Tecolote Research\\r\\n3.8</td>\n",
       "      <td>Albuquerque, NM</td>\n",
       "      <td>Goleta, CA</td>\n",
       "      <td>501 - 1000</td>\n",
       "      <td>1973</td>\n",
       "      <td>Company - Private</td>\n",
       "      <td>...</td>\n",
       "      <td>0</td>\n",
       "      <td>0</td>\n",
       "      <td>1</td>\n",
       "      <td>1</td>\n",
       "      <td>0</td>\n",
       "      <td>0</td>\n",
       "      <td>0</td>\n",
       "      <td>data scientist</td>\n",
       "      <td>na</td>\n",
       "      <td>M</td>\n",
       "    </tr>\n",
       "    <tr>\n",
       "      <th>1</th>\n",
       "      <td>Healthcare Data Scientist</td>\n",
       "      <td>$63K-$112K (Glassdoor est.)</td>\n",
       "      <td>What You Will Do:\\r\\n\\r\\nI. General Summary\\r\\...</td>\n",
       "      <td>3.4</td>\n",
       "      <td>University of Maryland Medical System\\r\\n3.4</td>\n",
       "      <td>Linthicum, MD</td>\n",
       "      <td>Baltimore, MD</td>\n",
       "      <td>10000+</td>\n",
       "      <td>1984</td>\n",
       "      <td>Other Organization</td>\n",
       "      <td>...</td>\n",
       "      <td>0</td>\n",
       "      <td>0</td>\n",
       "      <td>0</td>\n",
       "      <td>0</td>\n",
       "      <td>0</td>\n",
       "      <td>0</td>\n",
       "      <td>0</td>\n",
       "      <td>data scientist</td>\n",
       "      <td>na</td>\n",
       "      <td>M</td>\n",
       "    </tr>\n",
       "    <tr>\n",
       "      <th>2</th>\n",
       "      <td>Data Scientist</td>\n",
       "      <td>$80K-$90K (Glassdoor est.)</td>\n",
       "      <td>KnowBe4, Inc. is a high growth information sec...</td>\n",
       "      <td>4.8</td>\n",
       "      <td>KnowBe4\\r\\n4.8</td>\n",
       "      <td>Clearwater, FL</td>\n",
       "      <td>Clearwater, FL</td>\n",
       "      <td>501 - 1000</td>\n",
       "      <td>2010</td>\n",
       "      <td>Company - Private</td>\n",
       "      <td>...</td>\n",
       "      <td>0</td>\n",
       "      <td>0</td>\n",
       "      <td>0</td>\n",
       "      <td>0</td>\n",
       "      <td>0</td>\n",
       "      <td>0</td>\n",
       "      <td>0</td>\n",
       "      <td>data scientist</td>\n",
       "      <td>na</td>\n",
       "      <td>M</td>\n",
       "    </tr>\n",
       "    <tr>\n",
       "      <th>3</th>\n",
       "      <td>Data Scientist</td>\n",
       "      <td>$56K-$97K (Glassdoor est.)</td>\n",
       "      <td>*Organization and Job ID**\\r\\nJob ID: 310709\\r...</td>\n",
       "      <td>3.8</td>\n",
       "      <td>PNNL\\r\\n3.8</td>\n",
       "      <td>Richland, WA</td>\n",
       "      <td>Richland, WA</td>\n",
       "      <td>1001 - 5000</td>\n",
       "      <td>1965</td>\n",
       "      <td>Government</td>\n",
       "      <td>...</td>\n",
       "      <td>0</td>\n",
       "      <td>0</td>\n",
       "      <td>0</td>\n",
       "      <td>0</td>\n",
       "      <td>0</td>\n",
       "      <td>0</td>\n",
       "      <td>0</td>\n",
       "      <td>data scientist</td>\n",
       "      <td>na</td>\n",
       "      <td>na</td>\n",
       "    </tr>\n",
       "    <tr>\n",
       "      <th>4</th>\n",
       "      <td>Data Scientist</td>\n",
       "      <td>$86K-$143K (Glassdoor est.)</td>\n",
       "      <td>Data Scientist\\r\\nAffinity Solutions / Marketi...</td>\n",
       "      <td>2.9</td>\n",
       "      <td>Affinity Solutions\\r\\n2.9</td>\n",
       "      <td>New York, NY</td>\n",
       "      <td>New York, NY</td>\n",
       "      <td>51 - 200</td>\n",
       "      <td>1998</td>\n",
       "      <td>Company - Private</td>\n",
       "      <td>...</td>\n",
       "      <td>0</td>\n",
       "      <td>0</td>\n",
       "      <td>0</td>\n",
       "      <td>0</td>\n",
       "      <td>0</td>\n",
       "      <td>0</td>\n",
       "      <td>0</td>\n",
       "      <td>data scientist</td>\n",
       "      <td>na</td>\n",
       "      <td>na</td>\n",
       "    </tr>\n",
       "  </tbody>\n",
       "</table>\n",
       "<p>5 rows × 41 columns</p>\n",
       "</div>"
      ],
      "text/plain": [
       "                       Job Title              Salary Estimate  \\\n",
       "index                                                           \n",
       "0                 Data Scientist   $53K-$91K (Glassdoor est.)   \n",
       "1      Healthcare Data Scientist  $63K-$112K (Glassdoor est.)   \n",
       "2                 Data Scientist   $80K-$90K (Glassdoor est.)   \n",
       "3                 Data Scientist   $56K-$97K (Glassdoor est.)   \n",
       "4                 Data Scientist  $86K-$143K (Glassdoor est.)   \n",
       "\n",
       "                                         Job Description  Rating  \\\n",
       "index                                                              \n",
       "0      Data Scientist\\r\\nLocation: Albuquerque, NM\\r\\...     3.8   \n",
       "1      What You Will Do:\\r\\n\\r\\nI. General Summary\\r\\...     3.4   \n",
       "2      KnowBe4, Inc. is a high growth information sec...     4.8   \n",
       "3      *Organization and Job ID**\\r\\nJob ID: 310709\\r...     3.8   \n",
       "4      Data Scientist\\r\\nAffinity Solutions / Marketi...     2.9   \n",
       "\n",
       "                                       Company Name         Location  \\\n",
       "index                                                                  \n",
       "0                          Tecolote Research\\r\\n3.8  Albuquerque, NM   \n",
       "1      University of Maryland Medical System\\r\\n3.4    Linthicum, MD   \n",
       "2                                    KnowBe4\\r\\n4.8   Clearwater, FL   \n",
       "3                                       PNNL\\r\\n3.8     Richland, WA   \n",
       "4                         Affinity Solutions\\r\\n2.9     New York, NY   \n",
       "\n",
       "         Headquarters          Size  Founded   Type of ownership  ... tensor  \\\n",
       "index                                                             ...          \n",
       "0          Goleta, CA   501 - 1000      1973   Company - Private  ...      0   \n",
       "1       Baltimore, MD       10000+      1984  Other Organization  ...      0   \n",
       "2      Clearwater, FL   501 - 1000      2010   Company - Private  ...      0   \n",
       "3        Richland, WA  1001 - 5000      1965          Government  ...      0   \n",
       "4        New York, NY     51 - 200      1998   Company - Private  ...      0   \n",
       "\n",
       "      hadoop tableau bi  flink  mongo  google_an   job_title_sim  \\\n",
       "index                                                              \n",
       "0          0       1  1      0      0          0  data scientist   \n",
       "1          0       0  0      0      0          0  data scientist   \n",
       "2          0       0  0      0      0          0  data scientist   \n",
       "3          0       0  0      0      0          0  data scientist   \n",
       "4          0       0  0      0      0          0  data scientist   \n",
       "\n",
       "       seniority_by_title Degree  \n",
       "index                             \n",
       "0                      na      M  \n",
       "1                      na      M  \n",
       "2                      na      M  \n",
       "3                      na     na  \n",
       "4                      na     na  \n",
       "\n",
       "[5 rows x 41 columns]"
      ]
     },
     "execution_count": 2,
     "metadata": {},
     "output_type": "execute_result"
    }
   ],
   "source": [
    "data = pd.read_csv('data_cleaned_2021.csv',index_col='index')\n",
    "data.head()"
   ]
  },
  {
   "cell_type": "markdown",
   "id": "4278eff6",
   "metadata": {},
   "source": [
    "#### 2.3. Dữ liệu có bao nhiêu dòng và bao nhiêu cột? <a class=\"anchor\" id=\"2.3\"></a>"
   ]
  },
  {
   "cell_type": "code",
   "execution_count": 3,
   "id": "e3102958",
   "metadata": {},
   "outputs": [
    {
     "name": "stdout",
     "output_type": "stream",
     "text": [
      "Num rows = 742\n",
      "Num cols = 41\n"
     ]
    }
   ],
   "source": [
    "num_rows = data.shape[0]\n",
    "num_cols = data.shape[1]\n",
    "print('Num rows =',num_rows)\n",
    "print('Num cols =',num_cols)"
   ]
  },
  {
   "cell_type": "markdown",
   "id": "bee914f5",
   "metadata": {},
   "source": [
    "Dữ liệu có 742 dòng và 42 cột"
   ]
  },
  {
   "cell_type": "markdown",
   "id": "e3f5b405",
   "metadata": {},
   "source": [
    "#### 2.4. Mỗi dòng có ý nghĩa gì? Có vấn đề các dòng có ý nghĩa khác nhau không? <a class=\"anchor\" id=\"2.4\"></a>"
   ]
  },
  {
   "cell_type": "markdown",
   "id": "a2f678c0",
   "metadata": {},
   "source": [
    "Như trong mô tả, mỗi dòng là một công việc liên quan đến data và các thông tin liên quan đến công việc đó."
   ]
  },
  {
   "cell_type": "markdown",
   "id": "d23f2b10",
   "metadata": {},
   "source": [
    "#### 2.5. Dữ liệu có các dòng bị lặp không? <a class=\"anchor\" id=\"2.5\"></a>"
   ]
  },
  {
   "cell_type": "code",
   "execution_count": 4,
   "id": "c6a255fc",
   "metadata": {},
   "outputs": [
    {
     "data": {
      "text/plain": [
       "275"
      ]
     },
     "execution_count": 4,
     "metadata": {},
     "output_type": "execute_result"
    }
   ],
   "source": [
    "data.duplicated().sum()"
   ]
  },
  {
   "cell_type": "markdown",
   "id": "4c44c8e7",
   "metadata": {},
   "source": [
    "Hmm, vậy là có 275 dòng bị lặp. Việc dể lại cũng không mang lợi ích gì nên bây giờ nên loại chúng luôn."
   ]
  },
  {
   "cell_type": "code",
   "execution_count": 5,
   "id": "f371154a",
   "metadata": {},
   "outputs": [
    {
     "data": {
      "text/plain": [
       "0"
      ]
     },
     "execution_count": 5,
     "metadata": {},
     "output_type": "execute_result"
    }
   ],
   "source": [
    "data = data.drop_duplicates()\n",
    "data.duplicated().sum()"
   ]
  },
  {
   "cell_type": "markdown",
   "id": "849d5ed5",
   "metadata": {},
   "source": [
    "#### 2.6. Mỗi cột có ý nghĩa gì? <a class=\"anchor\" id=\"2.6\"></a>"
   ]
  },
  {
   "cell_type": "code",
   "execution_count": 6,
   "id": "78ce6d7a",
   "metadata": {},
   "outputs": [
    {
     "data": {
      "text/plain": [
       "Index(['Job Title', 'Salary Estimate', 'Job Description', 'Rating',\n",
       "       'Company Name', 'Location', 'Headquarters', 'Size', 'Founded',\n",
       "       'Type of ownership', 'Industry', 'Sector', 'Revenue', 'Competitors',\n",
       "       'Hourly', 'Employer provided', 'Lower Salary', 'Upper Salary',\n",
       "       'Avg Salary(K)', 'company_txt', 'Job Location', 'Age', 'Python',\n",
       "       'spark', 'aws', 'excel', 'sql', 'sas', 'keras', 'pytorch', 'scikit',\n",
       "       'tensor', 'hadoop', 'tableau', 'bi', 'flink', 'mongo', 'google_an',\n",
       "       'job_title_sim', 'seniority_by_title', 'Degree'],\n",
       "      dtype='object')"
      ]
     },
     "execution_count": 6,
     "metadata": {},
     "output_type": "execute_result"
    }
   ],
   "source": [
    "data.columns"
   ]
  },
  {
   "cell_type": "markdown",
   "id": "83ba0e5c",
   "metadata": {},
   "source": [
    "- Job Title : Tên công việc, vd như data scientist, junior data scientist, senior data scientist, etc ... <br />\n",
    "- Salary Estimate: Khoảng lương và nguồn lấy được.<br />\n",
    "- Job Description: Mô tả công việc, công ty mong muốn gì từ vị trí này.<br />\n",
    "- Rating: Rating của công ty.<br />\n",
    "- Company Name: Tên công ty.<br />\n",
    "- Location: Địa điểm tuyển dụng.<br />\n",
    "- Headquarters: Địa chỉ trụ sở công ty.<br />\n",
    "- Size: Ước tính số lượng nhân viên của công ty.<br />\n",
    "- Founded: Năm công ty được thành lập.<br />\n",
    "- Type of ownership: Công ty thuộc chính phủ, tư nhân hay các loại khác.<br />\n",
    "- Industry: Công ty hoạt động chủ yếu trong ngành công nghiệp nào, IT industry, Pharmaceutical industry , etc...<br />\n",
    "- Sector: Lĩnh vực mà công ty hoạt động.<br />\n",
    "- Revenue: Tổng lợi nhuận của công ty mỗi năm. <br />\n",
    "- Competitors:  Các đối thủ cạnh tranh hiện tại của công ty.<br />\n",
    "- Hourly: 1 nếu lương này là theo giờ, 0 là các loại khác. <br />\n",
    "- Employer provided: Mức lương được cung cấp bởi công ty hay không? <br />\n",
    "- Lower Salary: Mức lương tối thiểu được báo cáo . <br />\n",
    "- Upper Salary: Mức lương tối đa được báo cáo cho .<br />\n",
    "- Avg Salary(K): Mức lương trung bình .<br />\n",
    "- company_txt: chứa tên công ty. <br />\n",
    "- Job Location: Bang của nơi tuyển dụng.<br />\n",
    "- Age: Tuổi của công ty, tính bằng năm. <br />\n",
    "- Python:  Nếu kỹ năng Python là bắt buộc thì là 1. Còn lại là 0.<br />\n",
    "- spark: Nếu kỹ năng Spark là bắt buộc thì là 1. Còn lại là 0.<br />\n",
    "- aws: Nếu kỹ năng aws là bắt buộc thì là 1. Còn lại là 0.<br />\n",
    "- excel: Nếu kỹ năng excel là bắt buộc thì là 1. Còn lại là 0.<br />\n",
    "- sql: Nếu kỹ năng SQL là bắt buộc thì là 1. Còn lại là 0.<br />\n",
    "- sas: Nếu kỹ năng SAS là bắt buộc thì là 1. Còn lại là 0.<br />\n",
    "- keras: Nếu kỹ năng Keras là bắt buộc thì là 1. Còn lại là 0.<br />\n",
    "- pytorch: Nếu kỹ năng Pytorch là bắt buộc thì là 1. Còn lại là 0.<br />\n",
    "- scikit: Nếu kỹ năng Scikit là bắt buộc thì là 1. Còn lại là 0.<br />\n",
    "- tensor: Nếu kỹ năng Tensor là bắt buộc thì là 1. Còn lại là 0.<br />\n",
    "- hadoop: Nếu kỹ năng Hadoop là bắt buộc thì là 1. Còn lại là 0.<br />\n",
    "- tableau: Nếu kỹ năng tableau là bắt buộc thì là 1. Còn lại là 0.<br />\n",
    "- bi: Nếu kỹ năng PowerBi là bắt buộc thì là 1. Còn lại là 0.<br />\n",
    "- flink: Nếu kỹ năng Flink là bắt buộc thì là 1. Còn lại là 0.<br />\n",
    "- mongo: Nếu kỹ năng MongoDB là bắt buộc thì là 1. Còn lại là 0.<br />\n",
    "- google_an: Nếu chứng chỉ Google analytics là bắt buộc thì là 1. Còn lại là 0.<br />\n",
    "- job_title_sim: Đơn giản hóa tên công việc. <br />\n",
    "- seniority_by_title: Thâm niên . <br />\n",
    "- Degree: \n",
    "M: Nếu chức danh công việc yêu cầu bằng cấp hoặc cung cấp số năm kinh nghiệm để có được nó. P: Nếu chức danh công việc yêu cầu bằng cấp hoặc cung cấp số năm kinh nghiệm. <br />"
   ]
  },
  {
   "cell_type": "markdown",
   "id": "e6f5adf0",
   "metadata": {},
   "source": [
    "#### 2.7. Mỗi cột hiện đang có kiểu dữ liệu gì? Có cột nào có kiểu dữ liệu chưa phù hợp để có thể xử lý tiếp không? <a class=\"anchor\" id=\"2.7\"></a>"
   ]
  },
  {
   "cell_type": "code",
   "execution_count": 7,
   "id": "4cff0630",
   "metadata": {},
   "outputs": [
    {
     "data": {
      "text/plain": [
       "Job Title              object\n",
       "Salary Estimate        object\n",
       "Job Description        object\n",
       "Rating                float64\n",
       "Company Name           object\n",
       "Location               object\n",
       "Headquarters           object\n",
       "Size                   object\n",
       "Founded                 int64\n",
       "Type of ownership      object\n",
       "Industry               object\n",
       "Sector                 object\n",
       "Revenue                object\n",
       "Competitors            object\n",
       "Hourly                  int64\n",
       "Employer provided       int64\n",
       "Lower Salary            int64\n",
       "Upper Salary            int64\n",
       "Avg Salary(K)         float64\n",
       "company_txt            object\n",
       "Job Location           object\n",
       "Age                     int64\n",
       "Python                  int64\n",
       "spark                   int64\n",
       "aws                     int64\n",
       "excel                   int64\n",
       "sql                     int64\n",
       "sas                     int64\n",
       "keras                   int64\n",
       "pytorch                 int64\n",
       "scikit                  int64\n",
       "tensor                  int64\n",
       "hadoop                  int64\n",
       "tableau                 int64\n",
       "bi                      int64\n",
       "flink                   int64\n",
       "mongo                   int64\n",
       "google_an               int64\n",
       "job_title_sim          object\n",
       "seniority_by_title     object\n",
       "Degree                 object\n",
       "dtype: object"
      ]
     },
     "execution_count": 7,
     "metadata": {},
     "output_type": "execute_result"
    }
   ],
   "source": [
    "data.dtypes"
   ]
  },
  {
   "cell_type": "markdown",
   "id": "3f0884fa",
   "metadata": {},
   "source": [
    "Có vẻ không có vấn đề gì với kiểu dữ liệu của các cột."
   ]
  },
  {
   "cell_type": "markdown",
   "id": "248417a6",
   "metadata": {},
   "source": [
    "#### 2.8. Cột có dtype là object nghĩa là sao? <a class=\"anchor\" id=\"2.8\"></a>"
   ]
  },
  {
   "cell_type": "markdown",
   "id": "e64b7e2c",
   "metadata": {},
   "source": [
    "Trong Pandas, kiểu dữ liệu object thường ám chỉ chuỗi, nhưng thật ra kiểu dữ liệu object có thể chứa một đối tượng bất kỳ trong Python (vì thật ra ở bên dưới kiểu dữ liệu object chứa địa chỉ). Nếu một cột trong dataframe có dtype là object thì có thể các phần tử trong cột này sẽ có kiểu dữ liệu khác nhau; để biết được kiểu dữ liệu thật sự của các phần tử trong cột này thì ta phải truy xuất vào từng phần tử và dùng câu lệnh type để xem kiểu dữ liệu."
   ]
  },
  {
   "cell_type": "code",
   "execution_count": 8,
   "id": "e69d6717",
   "metadata": {},
   "outputs": [],
   "source": [
    "def open_object_dtype(s):\n",
    "    dtypes = set()\n",
    "\n",
    "    s=s.apply(type)\n",
    "    dtypes.update(s.unique().tolist())\n",
    "    \n",
    "    return dtypes"
   ]
  },
  {
   "cell_type": "code",
   "execution_count": 9,
   "id": "d93a6b77",
   "metadata": {},
   "outputs": [
    {
     "name": "stdout",
     "output_type": "stream",
     "text": [
      "{<class 'str'>}\n",
      "{<class 'str'>}\n",
      "{<class 'str'>}\n",
      "{<class 'str'>}\n",
      "{<class 'str'>}\n",
      "{<class 'str'>}\n",
      "{<class 'str'>}\n",
      "{<class 'str'>}\n",
      "{<class 'str'>}\n",
      "{<class 'str'>}\n",
      "{<class 'str'>}\n",
      "{<class 'str'>}\n",
      "{<class 'str'>}\n",
      "{<class 'str'>}\n",
      "{<class 'str'>}\n",
      "{<class 'str'>}\n",
      "{<class 'str'>}\n"
     ]
    }
   ],
   "source": [
    "list_numerics = data.describe().columns.tolist()\n",
    "list_cate = [ index for index in data.columns.tolist() if index not in list_numerics]\n",
    "for index in list_cate:\n",
    "    print(open_object_dtype(data[index]))"
   ]
  },
  {
   "cell_type": "markdown",
   "id": "342983b5",
   "metadata": {},
   "source": [
    "Vậy là các cột đều có kiểu dữ liệu là chuỗi, chúng ta không cần xử lý gì thêm."
   ]
  },
  {
   "cell_type": "markdown",
   "id": "c98dee9b",
   "metadata": {},
   "source": [
    "#### 2.9. Với mỗi cột có kiểu dữ liệu dạng số (numerical), các giá trị được phân bố như thế nào? <a class=\"anchor\" id=\"2.9\"></a>"
   ]
  },
  {
   "cell_type": "code",
   "execution_count": 10,
   "id": "0d61fa82",
   "metadata": {
    "scrolled": true
   },
   "outputs": [
    {
     "data": {
      "text/html": [
       "<div>\n",
       "<style scoped>\n",
       "    .dataframe tbody tr th:only-of-type {\n",
       "        vertical-align: middle;\n",
       "    }\n",
       "\n",
       "    .dataframe tbody tr th {\n",
       "        vertical-align: top;\n",
       "    }\n",
       "\n",
       "    .dataframe thead th {\n",
       "        text-align: right;\n",
       "    }\n",
       "</style>\n",
       "<table border=\"1\" class=\"dataframe\">\n",
       "  <thead>\n",
       "    <tr style=\"text-align: right;\">\n",
       "      <th></th>\n",
       "      <th>Rating</th>\n",
       "      <th>Founded</th>\n",
       "      <th>Hourly</th>\n",
       "      <th>Employer provided</th>\n",
       "      <th>Lower Salary</th>\n",
       "      <th>Upper Salary</th>\n",
       "      <th>Avg Salary(K)</th>\n",
       "      <th>Age</th>\n",
       "      <th>Python</th>\n",
       "      <th>spark</th>\n",
       "      <th>...</th>\n",
       "      <th>keras</th>\n",
       "      <th>pytorch</th>\n",
       "      <th>scikit</th>\n",
       "      <th>tensor</th>\n",
       "      <th>hadoop</th>\n",
       "      <th>tableau</th>\n",
       "      <th>bi</th>\n",
       "      <th>flink</th>\n",
       "      <th>mongo</th>\n",
       "      <th>google_an</th>\n",
       "    </tr>\n",
       "  </thead>\n",
       "  <tbody>\n",
       "    <tr>\n",
       "      <th>count</th>\n",
       "      <td>467.000000</td>\n",
       "      <td>467.000000</td>\n",
       "      <td>467.000000</td>\n",
       "      <td>467.000000</td>\n",
       "      <td>467.000000</td>\n",
       "      <td>467.000000</td>\n",
       "      <td>467.000000</td>\n",
       "      <td>467.000000</td>\n",
       "      <td>467.000000</td>\n",
       "      <td>467.000000</td>\n",
       "      <td>...</td>\n",
       "      <td>467.000000</td>\n",
       "      <td>467.000000</td>\n",
       "      <td>467.000000</td>\n",
       "      <td>467.000000</td>\n",
       "      <td>467.000000</td>\n",
       "      <td>467.000000</td>\n",
       "      <td>467.000000</td>\n",
       "      <td>467.000000</td>\n",
       "      <td>467.000000</td>\n",
       "      <td>467.000000</td>\n",
       "    </tr>\n",
       "    <tr>\n",
       "      <th>mean</th>\n",
       "      <td>3.651820</td>\n",
       "      <td>1832.441113</td>\n",
       "      <td>0.021413</td>\n",
       "      <td>0.021413</td>\n",
       "      <td>74.783726</td>\n",
       "      <td>128.312634</td>\n",
       "      <td>101.548180</td>\n",
       "      <td>45.605996</td>\n",
       "      <td>0.556745</td>\n",
       "      <td>0.237687</td>\n",
       "      <td>...</td>\n",
       "      <td>0.040685</td>\n",
       "      <td>0.051392</td>\n",
       "      <td>0.079229</td>\n",
       "      <td>0.102784</td>\n",
       "      <td>0.175589</td>\n",
       "      <td>0.211991</td>\n",
       "      <td>0.083512</td>\n",
       "      <td>0.017131</td>\n",
       "      <td>0.051392</td>\n",
       "      <td>0.017131</td>\n",
       "    </tr>\n",
       "    <tr>\n",
       "      <th>std</th>\n",
       "      <td>0.805355</td>\n",
       "      <td>508.661732</td>\n",
       "      <td>0.144913</td>\n",
       "      <td>0.144913</td>\n",
       "      <td>29.920107</td>\n",
       "      <td>43.941982</td>\n",
       "      <td>36.381891</td>\n",
       "      <td>52.491641</td>\n",
       "      <td>0.497302</td>\n",
       "      <td>0.426123</td>\n",
       "      <td>...</td>\n",
       "      <td>0.197772</td>\n",
       "      <td>0.221032</td>\n",
       "      <td>0.270386</td>\n",
       "      <td>0.304002</td>\n",
       "      <td>0.380878</td>\n",
       "      <td>0.409157</td>\n",
       "      <td>0.276951</td>\n",
       "      <td>0.129897</td>\n",
       "      <td>0.221032</td>\n",
       "      <td>0.129897</td>\n",
       "    </tr>\n",
       "    <tr>\n",
       "      <th>min</th>\n",
       "      <td>-1.000000</td>\n",
       "      <td>-1.000000</td>\n",
       "      <td>0.000000</td>\n",
       "      <td>0.000000</td>\n",
       "      <td>15.000000</td>\n",
       "      <td>16.000000</td>\n",
       "      <td>15.500000</td>\n",
       "      <td>-1.000000</td>\n",
       "      <td>0.000000</td>\n",
       "      <td>0.000000</td>\n",
       "      <td>...</td>\n",
       "      <td>0.000000</td>\n",
       "      <td>0.000000</td>\n",
       "      <td>0.000000</td>\n",
       "      <td>0.000000</td>\n",
       "      <td>0.000000</td>\n",
       "      <td>0.000000</td>\n",
       "      <td>0.000000</td>\n",
       "      <td>0.000000</td>\n",
       "      <td>0.000000</td>\n",
       "      <td>0.000000</td>\n",
       "    </tr>\n",
       "    <tr>\n",
       "      <th>25%</th>\n",
       "      <td>3.400000</td>\n",
       "      <td>1939.000000</td>\n",
       "      <td>0.000000</td>\n",
       "      <td>0.000000</td>\n",
       "      <td>53.500000</td>\n",
       "      <td>98.000000</td>\n",
       "      <td>76.250000</td>\n",
       "      <td>11.000000</td>\n",
       "      <td>0.000000</td>\n",
       "      <td>0.000000</td>\n",
       "      <td>...</td>\n",
       "      <td>0.000000</td>\n",
       "      <td>0.000000</td>\n",
       "      <td>0.000000</td>\n",
       "      <td>0.000000</td>\n",
       "      <td>0.000000</td>\n",
       "      <td>0.000000</td>\n",
       "      <td>0.000000</td>\n",
       "      <td>0.000000</td>\n",
       "      <td>0.000000</td>\n",
       "      <td>0.000000</td>\n",
       "    </tr>\n",
       "    <tr>\n",
       "      <th>50%</th>\n",
       "      <td>3.700000</td>\n",
       "      <td>1991.000000</td>\n",
       "      <td>0.000000</td>\n",
       "      <td>0.000000</td>\n",
       "      <td>71.000000</td>\n",
       "      <td>124.000000</td>\n",
       "      <td>97.500000</td>\n",
       "      <td>25.000000</td>\n",
       "      <td>1.000000</td>\n",
       "      <td>0.000000</td>\n",
       "      <td>...</td>\n",
       "      <td>0.000000</td>\n",
       "      <td>0.000000</td>\n",
       "      <td>0.000000</td>\n",
       "      <td>0.000000</td>\n",
       "      <td>0.000000</td>\n",
       "      <td>0.000000</td>\n",
       "      <td>0.000000</td>\n",
       "      <td>0.000000</td>\n",
       "      <td>0.000000</td>\n",
       "      <td>0.000000</td>\n",
       "    </tr>\n",
       "    <tr>\n",
       "      <th>75%</th>\n",
       "      <td>4.100000</td>\n",
       "      <td>2007.000000</td>\n",
       "      <td>0.000000</td>\n",
       "      <td>0.000000</td>\n",
       "      <td>90.500000</td>\n",
       "      <td>150.000000</td>\n",
       "      <td>121.000000</td>\n",
       "      <td>56.000000</td>\n",
       "      <td>1.000000</td>\n",
       "      <td>0.000000</td>\n",
       "      <td>...</td>\n",
       "      <td>0.000000</td>\n",
       "      <td>0.000000</td>\n",
       "      <td>0.000000</td>\n",
       "      <td>0.000000</td>\n",
       "      <td>0.000000</td>\n",
       "      <td>0.000000</td>\n",
       "      <td>0.000000</td>\n",
       "      <td>0.000000</td>\n",
       "      <td>0.000000</td>\n",
       "      <td>0.000000</td>\n",
       "    </tr>\n",
       "    <tr>\n",
       "      <th>max</th>\n",
       "      <td>5.000000</td>\n",
       "      <td>2019.000000</td>\n",
       "      <td>1.000000</td>\n",
       "      <td>1.000000</td>\n",
       "      <td>202.000000</td>\n",
       "      <td>306.000000</td>\n",
       "      <td>254.000000</td>\n",
       "      <td>277.000000</td>\n",
       "      <td>1.000000</td>\n",
       "      <td>1.000000</td>\n",
       "      <td>...</td>\n",
       "      <td>1.000000</td>\n",
       "      <td>1.000000</td>\n",
       "      <td>1.000000</td>\n",
       "      <td>1.000000</td>\n",
       "      <td>1.000000</td>\n",
       "      <td>1.000000</td>\n",
       "      <td>1.000000</td>\n",
       "      <td>1.000000</td>\n",
       "      <td>1.000000</td>\n",
       "      <td>1.000000</td>\n",
       "    </tr>\n",
       "  </tbody>\n",
       "</table>\n",
       "<p>8 rows × 24 columns</p>\n",
       "</div>"
      ],
      "text/plain": [
       "           Rating      Founded      Hourly  Employer provided  Lower Salary  \\\n",
       "count  467.000000   467.000000  467.000000         467.000000    467.000000   \n",
       "mean     3.651820  1832.441113    0.021413           0.021413     74.783726   \n",
       "std      0.805355   508.661732    0.144913           0.144913     29.920107   \n",
       "min     -1.000000    -1.000000    0.000000           0.000000     15.000000   \n",
       "25%      3.400000  1939.000000    0.000000           0.000000     53.500000   \n",
       "50%      3.700000  1991.000000    0.000000           0.000000     71.000000   \n",
       "75%      4.100000  2007.000000    0.000000           0.000000     90.500000   \n",
       "max      5.000000  2019.000000    1.000000           1.000000    202.000000   \n",
       "\n",
       "       Upper Salary  Avg Salary(K)         Age      Python       spark  ...  \\\n",
       "count    467.000000     467.000000  467.000000  467.000000  467.000000  ...   \n",
       "mean     128.312634     101.548180   45.605996    0.556745    0.237687  ...   \n",
       "std       43.941982      36.381891   52.491641    0.497302    0.426123  ...   \n",
       "min       16.000000      15.500000   -1.000000    0.000000    0.000000  ...   \n",
       "25%       98.000000      76.250000   11.000000    0.000000    0.000000  ...   \n",
       "50%      124.000000      97.500000   25.000000    1.000000    0.000000  ...   \n",
       "75%      150.000000     121.000000   56.000000    1.000000    0.000000  ...   \n",
       "max      306.000000     254.000000  277.000000    1.000000    1.000000  ...   \n",
       "\n",
       "            keras     pytorch      scikit      tensor      hadoop     tableau  \\\n",
       "count  467.000000  467.000000  467.000000  467.000000  467.000000  467.000000   \n",
       "mean     0.040685    0.051392    0.079229    0.102784    0.175589    0.211991   \n",
       "std      0.197772    0.221032    0.270386    0.304002    0.380878    0.409157   \n",
       "min      0.000000    0.000000    0.000000    0.000000    0.000000    0.000000   \n",
       "25%      0.000000    0.000000    0.000000    0.000000    0.000000    0.000000   \n",
       "50%      0.000000    0.000000    0.000000    0.000000    0.000000    0.000000   \n",
       "75%      0.000000    0.000000    0.000000    0.000000    0.000000    0.000000   \n",
       "max      1.000000    1.000000    1.000000    1.000000    1.000000    1.000000   \n",
       "\n",
       "               bi       flink       mongo   google_an  \n",
       "count  467.000000  467.000000  467.000000  467.000000  \n",
       "mean     0.083512    0.017131    0.051392    0.017131  \n",
       "std      0.276951    0.129897    0.221032    0.129897  \n",
       "min      0.000000    0.000000    0.000000    0.000000  \n",
       "25%      0.000000    0.000000    0.000000    0.000000  \n",
       "50%      0.000000    0.000000    0.000000    0.000000  \n",
       "75%      0.000000    0.000000    0.000000    0.000000  \n",
       "max      1.000000    1.000000    1.000000    1.000000  \n",
       "\n",
       "[8 rows x 24 columns]"
      ]
     },
     "execution_count": 10,
     "metadata": {},
     "output_type": "execute_result"
    }
   ],
   "source": [
    "data.describe()"
   ]
  },
  {
   "cell_type": "markdown",
   "id": "a0e2616b",
   "metadata": {},
   "source": [
    "Giá trị max của các cột thì không có gì bất thường, tuy nhiên các giá trị min có vài chỗ là -1 như Rating,Age,... Lý do bởi vì trong lúc thu thập dữ liệu, những chỗ nào không có hay không thu nhập được thì tác giả sẽ để là -1. Như vậy để lúc sau tính tỷ lệ giá trị thiếu, ta sẽ thay những giá trị = -1 bằng np.nan"
   ]
  },
  {
   "cell_type": "code",
   "execution_count": 11,
   "id": "ed68cabe",
   "metadata": {},
   "outputs": [
    {
     "data": {
      "text/html": [
       "<div>\n",
       "<style scoped>\n",
       "    .dataframe tbody tr th:only-of-type {\n",
       "        vertical-align: middle;\n",
       "    }\n",
       "\n",
       "    .dataframe tbody tr th {\n",
       "        vertical-align: top;\n",
       "    }\n",
       "\n",
       "    .dataframe thead th {\n",
       "        text-align: right;\n",
       "    }\n",
       "</style>\n",
       "<table border=\"1\" class=\"dataframe\">\n",
       "  <thead>\n",
       "    <tr style=\"text-align: right;\">\n",
       "      <th></th>\n",
       "      <th>Rating</th>\n",
       "      <th>Founded</th>\n",
       "      <th>Hourly</th>\n",
       "      <th>Employer provided</th>\n",
       "      <th>Lower Salary</th>\n",
       "      <th>Upper Salary</th>\n",
       "      <th>Avg Salary(K)</th>\n",
       "      <th>Age</th>\n",
       "      <th>Python</th>\n",
       "      <th>spark</th>\n",
       "      <th>...</th>\n",
       "      <th>keras</th>\n",
       "      <th>pytorch</th>\n",
       "      <th>scikit</th>\n",
       "      <th>tensor</th>\n",
       "      <th>hadoop</th>\n",
       "      <th>tableau</th>\n",
       "      <th>bi</th>\n",
       "      <th>flink</th>\n",
       "      <th>mongo</th>\n",
       "      <th>google_an</th>\n",
       "    </tr>\n",
       "  </thead>\n",
       "  <tbody>\n",
       "    <tr>\n",
       "      <th>count</th>\n",
       "      <td>460.000000</td>\n",
       "      <td>434.000000</td>\n",
       "      <td>467.000000</td>\n",
       "      <td>467.000000</td>\n",
       "      <td>467.000000</td>\n",
       "      <td>467.000000</td>\n",
       "      <td>467.000000</td>\n",
       "      <td>434.000000</td>\n",
       "      <td>467.000000</td>\n",
       "      <td>467.000000</td>\n",
       "      <td>...</td>\n",
       "      <td>467.000000</td>\n",
       "      <td>467.000000</td>\n",
       "      <td>467.000000</td>\n",
       "      <td>467.000000</td>\n",
       "      <td>467.000000</td>\n",
       "      <td>467.000000</td>\n",
       "      <td>467.000000</td>\n",
       "      <td>467.000000</td>\n",
       "      <td>467.000000</td>\n",
       "      <td>467.000000</td>\n",
       "    </tr>\n",
       "    <tr>\n",
       "      <th>mean</th>\n",
       "      <td>3.722609</td>\n",
       "      <td>1971.850230</td>\n",
       "      <td>0.021413</td>\n",
       "      <td>0.021413</td>\n",
       "      <td>74.783726</td>\n",
       "      <td>128.312634</td>\n",
       "      <td>101.548180</td>\n",
       "      <td>49.149770</td>\n",
       "      <td>0.556745</td>\n",
       "      <td>0.237687</td>\n",
       "      <td>...</td>\n",
       "      <td>0.040685</td>\n",
       "      <td>0.051392</td>\n",
       "      <td>0.079229</td>\n",
       "      <td>0.102784</td>\n",
       "      <td>0.175589</td>\n",
       "      <td>0.211991</td>\n",
       "      <td>0.083512</td>\n",
       "      <td>0.017131</td>\n",
       "      <td>0.051392</td>\n",
       "      <td>0.017131</td>\n",
       "    </tr>\n",
       "    <tr>\n",
       "      <th>std</th>\n",
       "      <td>0.568729</td>\n",
       "      <td>52.794282</td>\n",
       "      <td>0.144913</td>\n",
       "      <td>0.144913</td>\n",
       "      <td>29.920107</td>\n",
       "      <td>43.941982</td>\n",
       "      <td>36.381891</td>\n",
       "      <td>52.794282</td>\n",
       "      <td>0.497302</td>\n",
       "      <td>0.426123</td>\n",
       "      <td>...</td>\n",
       "      <td>0.197772</td>\n",
       "      <td>0.221032</td>\n",
       "      <td>0.270386</td>\n",
       "      <td>0.304002</td>\n",
       "      <td>0.380878</td>\n",
       "      <td>0.409157</td>\n",
       "      <td>0.276951</td>\n",
       "      <td>0.129897</td>\n",
       "      <td>0.221032</td>\n",
       "      <td>0.129897</td>\n",
       "    </tr>\n",
       "    <tr>\n",
       "      <th>min</th>\n",
       "      <td>1.900000</td>\n",
       "      <td>1744.000000</td>\n",
       "      <td>0.000000</td>\n",
       "      <td>0.000000</td>\n",
       "      <td>15.000000</td>\n",
       "      <td>16.000000</td>\n",
       "      <td>15.500000</td>\n",
       "      <td>2.000000</td>\n",
       "      <td>0.000000</td>\n",
       "      <td>0.000000</td>\n",
       "      <td>...</td>\n",
       "      <td>0.000000</td>\n",
       "      <td>0.000000</td>\n",
       "      <td>0.000000</td>\n",
       "      <td>0.000000</td>\n",
       "      <td>0.000000</td>\n",
       "      <td>0.000000</td>\n",
       "      <td>0.000000</td>\n",
       "      <td>0.000000</td>\n",
       "      <td>0.000000</td>\n",
       "      <td>0.000000</td>\n",
       "    </tr>\n",
       "    <tr>\n",
       "      <th>25%</th>\n",
       "      <td>3.400000</td>\n",
       "      <td>1958.750000</td>\n",
       "      <td>0.000000</td>\n",
       "      <td>0.000000</td>\n",
       "      <td>53.500000</td>\n",
       "      <td>98.000000</td>\n",
       "      <td>76.250000</td>\n",
       "      <td>13.000000</td>\n",
       "      <td>0.000000</td>\n",
       "      <td>0.000000</td>\n",
       "      <td>...</td>\n",
       "      <td>0.000000</td>\n",
       "      <td>0.000000</td>\n",
       "      <td>0.000000</td>\n",
       "      <td>0.000000</td>\n",
       "      <td>0.000000</td>\n",
       "      <td>0.000000</td>\n",
       "      <td>0.000000</td>\n",
       "      <td>0.000000</td>\n",
       "      <td>0.000000</td>\n",
       "      <td>0.000000</td>\n",
       "    </tr>\n",
       "    <tr>\n",
       "      <th>50%</th>\n",
       "      <td>3.750000</td>\n",
       "      <td>1995.000000</td>\n",
       "      <td>0.000000</td>\n",
       "      <td>0.000000</td>\n",
       "      <td>71.000000</td>\n",
       "      <td>124.000000</td>\n",
       "      <td>97.500000</td>\n",
       "      <td>26.000000</td>\n",
       "      <td>1.000000</td>\n",
       "      <td>0.000000</td>\n",
       "      <td>...</td>\n",
       "      <td>0.000000</td>\n",
       "      <td>0.000000</td>\n",
       "      <td>0.000000</td>\n",
       "      <td>0.000000</td>\n",
       "      <td>0.000000</td>\n",
       "      <td>0.000000</td>\n",
       "      <td>0.000000</td>\n",
       "      <td>0.000000</td>\n",
       "      <td>0.000000</td>\n",
       "      <td>0.000000</td>\n",
       "    </tr>\n",
       "    <tr>\n",
       "      <th>75%</th>\n",
       "      <td>4.100000</td>\n",
       "      <td>2008.000000</td>\n",
       "      <td>0.000000</td>\n",
       "      <td>0.000000</td>\n",
       "      <td>90.500000</td>\n",
       "      <td>150.000000</td>\n",
       "      <td>121.000000</td>\n",
       "      <td>62.250000</td>\n",
       "      <td>1.000000</td>\n",
       "      <td>0.000000</td>\n",
       "      <td>...</td>\n",
       "      <td>0.000000</td>\n",
       "      <td>0.000000</td>\n",
       "      <td>0.000000</td>\n",
       "      <td>0.000000</td>\n",
       "      <td>0.000000</td>\n",
       "      <td>0.000000</td>\n",
       "      <td>0.000000</td>\n",
       "      <td>0.000000</td>\n",
       "      <td>0.000000</td>\n",
       "      <td>0.000000</td>\n",
       "    </tr>\n",
       "    <tr>\n",
       "      <th>max</th>\n",
       "      <td>5.000000</td>\n",
       "      <td>2019.000000</td>\n",
       "      <td>1.000000</td>\n",
       "      <td>1.000000</td>\n",
       "      <td>202.000000</td>\n",
       "      <td>306.000000</td>\n",
       "      <td>254.000000</td>\n",
       "      <td>277.000000</td>\n",
       "      <td>1.000000</td>\n",
       "      <td>1.000000</td>\n",
       "      <td>...</td>\n",
       "      <td>1.000000</td>\n",
       "      <td>1.000000</td>\n",
       "      <td>1.000000</td>\n",
       "      <td>1.000000</td>\n",
       "      <td>1.000000</td>\n",
       "      <td>1.000000</td>\n",
       "      <td>1.000000</td>\n",
       "      <td>1.000000</td>\n",
       "      <td>1.000000</td>\n",
       "      <td>1.000000</td>\n",
       "    </tr>\n",
       "  </tbody>\n",
       "</table>\n",
       "<p>8 rows × 24 columns</p>\n",
       "</div>"
      ],
      "text/plain": [
       "           Rating      Founded      Hourly  Employer provided  Lower Salary  \\\n",
       "count  460.000000   434.000000  467.000000         467.000000    467.000000   \n",
       "mean     3.722609  1971.850230    0.021413           0.021413     74.783726   \n",
       "std      0.568729    52.794282    0.144913           0.144913     29.920107   \n",
       "min      1.900000  1744.000000    0.000000           0.000000     15.000000   \n",
       "25%      3.400000  1958.750000    0.000000           0.000000     53.500000   \n",
       "50%      3.750000  1995.000000    0.000000           0.000000     71.000000   \n",
       "75%      4.100000  2008.000000    0.000000           0.000000     90.500000   \n",
       "max      5.000000  2019.000000    1.000000           1.000000    202.000000   \n",
       "\n",
       "       Upper Salary  Avg Salary(K)         Age      Python       spark  ...  \\\n",
       "count    467.000000     467.000000  434.000000  467.000000  467.000000  ...   \n",
       "mean     128.312634     101.548180   49.149770    0.556745    0.237687  ...   \n",
       "std       43.941982      36.381891   52.794282    0.497302    0.426123  ...   \n",
       "min       16.000000      15.500000    2.000000    0.000000    0.000000  ...   \n",
       "25%       98.000000      76.250000   13.000000    0.000000    0.000000  ...   \n",
       "50%      124.000000      97.500000   26.000000    1.000000    0.000000  ...   \n",
       "75%      150.000000     121.000000   62.250000    1.000000    0.000000  ...   \n",
       "max      306.000000     254.000000  277.000000    1.000000    1.000000  ...   \n",
       "\n",
       "            keras     pytorch      scikit      tensor      hadoop     tableau  \\\n",
       "count  467.000000  467.000000  467.000000  467.000000  467.000000  467.000000   \n",
       "mean     0.040685    0.051392    0.079229    0.102784    0.175589    0.211991   \n",
       "std      0.197772    0.221032    0.270386    0.304002    0.380878    0.409157   \n",
       "min      0.000000    0.000000    0.000000    0.000000    0.000000    0.000000   \n",
       "25%      0.000000    0.000000    0.000000    0.000000    0.000000    0.000000   \n",
       "50%      0.000000    0.000000    0.000000    0.000000    0.000000    0.000000   \n",
       "75%      0.000000    0.000000    0.000000    0.000000    0.000000    0.000000   \n",
       "max      1.000000    1.000000    1.000000    1.000000    1.000000    1.000000   \n",
       "\n",
       "               bi       flink       mongo   google_an  \n",
       "count  467.000000  467.000000  467.000000  467.000000  \n",
       "mean     0.083512    0.017131    0.051392    0.017131  \n",
       "std      0.276951    0.129897    0.221032    0.129897  \n",
       "min      0.000000    0.000000    0.000000    0.000000  \n",
       "25%      0.000000    0.000000    0.000000    0.000000  \n",
       "50%      0.000000    0.000000    0.000000    0.000000  \n",
       "75%      0.000000    0.000000    0.000000    0.000000  \n",
       "max      1.000000    1.000000    1.000000    1.000000  \n",
       "\n",
       "[8 rows x 24 columns]"
      ]
     },
     "execution_count": 11,
     "metadata": {},
     "output_type": "execute_result"
    }
   ],
   "source": [
    "data = data.replace(-1,np.nan)\n",
    "data = data.replace('-1',np.nan)\n",
    "data.describe()"
   ]
  },
  {
   "cell_type": "markdown",
   "id": "796300a3",
   "metadata": {},
   "source": [
    "Giá trị min đã trở lại bình thường. Giờ ta sẽ xem tỷ lệ thiếu của các cột."
   ]
  },
  {
   "cell_type": "code",
   "execution_count": 12,
   "id": "ae6963b7",
   "metadata": {
    "scrolled": true
   },
   "outputs": [
    {
     "data": {
      "text/plain": [
       "Rating                7\n",
       "Founded              33\n",
       "Hourly                0\n",
       "Employer provided     0\n",
       "Lower Salary          0\n",
       "Upper Salary          0\n",
       "Avg Salary(K)         0\n",
       "Age                  33\n",
       "Python                0\n",
       "spark                 0\n",
       "aws                   0\n",
       "excel                 0\n",
       "sql                   0\n",
       "sas                   0\n",
       "keras                 0\n",
       "pytorch               0\n",
       "scikit                0\n",
       "tensor                0\n",
       "hadoop                0\n",
       "tableau               0\n",
       "bi                    0\n",
       "flink                 0\n",
       "mongo                 0\n",
       "google_an             0\n",
       "dtype: int64"
      ]
     },
     "execution_count": 12,
     "metadata": {},
     "output_type": "execute_result"
    }
   ],
   "source": [
    "data[list_numerics].isnull().sum()"
   ]
  },
  {
   "cell_type": "markdown",
   "id": "9bed493d",
   "metadata": {},
   "source": [
    "Chỉ có 3 cột có giá trị thiếu là Rating, Founded, Age"
   ]
  },
  {
   "cell_type": "markdown",
   "id": "f3de1f67",
   "metadata": {},
   "source": [
    "#### 2.10. Với mỗi cột có kiểu dữ liệu dạng phân loại (categorical), các giá trị được phân bố như thế nào? <a class=\"anchor\" id=\"2.10\"></a>"
   ]
  },
  {
   "cell_type": "markdown",
   "id": "a577fae5",
   "metadata": {},
   "source": [
    "Ở các cột categorical thì những giá trị thiếu được biểu diễn bằng chuỗi 'na' (not available). Vậy ra sẽ thay các chuỗi đó bằng np.nan trước khi tính các giá trị thiếu."
   ]
  },
  {
   "cell_type": "code",
   "execution_count": 13,
   "id": "09f90e1a",
   "metadata": {},
   "outputs": [],
   "source": [
    "data = data = data.replace('na',np.nan)"
   ]
  },
  {
   "cell_type": "code",
   "execution_count": 14,
   "id": "564924a9",
   "metadata": {},
   "outputs": [
    {
     "data": {
      "text/plain": [
       "Job Title               0\n",
       "Salary Estimate         0\n",
       "Job Description         0\n",
       "Company Name            0\n",
       "Location                0\n",
       "Headquarters            1\n",
       "Size                    0\n",
       "Type of ownership       0\n",
       "Industry                7\n",
       "Sector                  7\n",
       "Revenue                 0\n",
       "Competitors           285\n",
       "company_txt             0\n",
       "Job Location            0\n",
       "job_title_sim           6\n",
       "seniority_by_title    340\n",
       "Degree                245\n",
       "dtype: int64"
      ]
     },
     "execution_count": 14,
     "metadata": {},
     "output_type": "execute_result"
    }
   ],
   "source": [
    "data[list_cate].isnull().sum()"
   ]
  },
  {
   "cell_type": "markdown",
   "id": "de754261",
   "metadata": {},
   "source": [
    "Competitors và Headquarters, Sector, Industry, seniority_by_title, Degree đêu có giá trị thiếu "
   ]
  },
  {
   "cell_type": "markdown",
   "id": "6139a874",
   "metadata": {},
   "source": [
    "Số lượng các giá trị khác nhau"
   ]
  },
  {
   "cell_type": "code",
   "execution_count": 15,
   "id": "50f012bf",
   "metadata": {
    "scrolled": true
   },
   "outputs": [
    {
     "data": {
      "text/plain": [
       "Job Title             264\n",
       "Salary Estimate       416\n",
       "Job Description       463\n",
       "Company Name          343\n",
       "Location              200\n",
       "Headquarters          197\n",
       "Size                    8\n",
       "Type of ownership       9\n",
       "Industry               59\n",
       "Sector                 24\n",
       "Revenue                13\n",
       "Competitors           127\n",
       "company_txt           343\n",
       "Job Location           37\n",
       "job_title_sim           9\n",
       "seniority_by_title      2\n",
       "Degree                  2\n",
       "dtype: int64"
      ]
     },
     "execution_count": 15,
     "metadata": {},
     "output_type": "execute_result"
    }
   ],
   "source": [
    "data[list_cate].nunique()"
   ]
  },
  {
   "cell_type": "code",
   "execution_count": 16,
   "id": "36b93040",
   "metadata": {
    "scrolled": true
   },
   "outputs": [
    {
     "name": "stdout",
     "output_type": "stream",
     "text": [
      "['Data Scientist' 'Healthcare Data Scientist' 'Research Scientist']\n",
      "['$53K-$91K (Glassdoor est.)' '$63K-$112K (Glassdoor est.)'\n",
      " '$80K-$90K (Glassdoor est.)']\n",
      "['Data Scientist\\r\\nLocation: Albuquerque, NM\\r\\nEducation Required: Bachelor’s degree required, preferably in math, engineering, business, or the sciences.\\r\\nSkills Required:\\r\\nBachelor’s Degree in relevant field, e.g., math, data analysis, database, computer science, Artificial Intelligence (AI); three years’ experience credit for Master’s degree; five years’ experience credit for a Ph.D\\r\\nApplicant should be proficient in the use of Power BI, Tableau, Python, MATLAB, Microsoft Word, PowerPoint, Excel, and working knowledge of MS Access, LMS, SAS, data visualization tools, and have a strong algorithmic aptitude\\r\\nExcellent verbal and written communication skills, and quantitative analytical skills are required\\r\\nApplicant must be able to work in a team environment\\r\\nU.S. citizenship and ability to obtain a DoD Secret Clearance required\\r\\nResponsibilities: The applicant will be responsible for formulating analytical solutions to complex data problems; creating data analytic models to improve data metrics; analyzing customer behavior and trends; delivering insights to stakeholders, as well as designing and crafting reports, dashboards, models, and algorithms to make data insights actionable; selecting features, building and optimizing classifiers using machine learning techniques; data mining using state-of-the-art methods, extending organization’s data with third party sources of information when needed; enhancing data collection procedures to include information that is relevant for building analytic systems; processing, cleansing, and verifying the integrity of data used for analysis; doing ad-hoc analysis and presenting results in a clear manner; and creating automated anomaly detection systems and constant tracking of its performance.\\r\\nBenefits:\\r\\nWe offer competitive salaries commensurate with education and experience. We have an excellent benefits package that includes:\\r\\nComprehensive health, dental, life, long and short term disability insurance\\r\\n100% Company funded Retirement Plans\\r\\nGenerous vacation, holiday and sick pay plans\\r\\nTuition assistance\\r\\n\\r\\nBenefits are provided to employees regularly working a minimum of 30 hours per week.\\r\\n\\r\\nTecolote Research is a private, employee-owned corporation where people are our primary resource. Our investments in technology and training give our employees the tools to ensure our clients are provided the solutions they need, and our very high employee retention rate and stable workforce is an added value to our customers. Apply now to connect with a company that invests in you.'\n",
      " 'What You Will Do:\\r\\n\\r\\nI. General Summary\\r\\n\\r\\nThe Healthcare Data Scientist position will join our Advanced Analytics group at the University of Maryland Medical System (UMMS) in support of its strategic priority to become a data-driven and outcomes-oriented organization. The successful candidate will have 3+ years of experience with Machine Learning, Predictive Modeling, Statistical Analysis, Mathematical Optimization, Algorithm Development and a passion for working with healthcare data. Previous experience with various computational approaches along with an ability to demonstrate a portfolio of relevant prior projects is essential. This position will report to the UMMS Vice President for Enterprise Data and Analytics (ED&A).\\r\\n\\r\\nII. Principal Responsibilities and Tasks\\r\\n\\r\\n• Develops predictive and prescriptive analytic models in support of the organization’s clinical, operations and business initiatives and priorities.\\r\\n• Deploys solutions so that they provide actionable insights to the organization and are embedded or integrated with application systems\\r\\n• Supports and drives analytic efforts designed around organization’s strategic priorities and clinical/business problems\\r\\n• Works in a team to drive disruptive innovation, which may translate into improved quality of care, clinical outcomes, reduced costs, temporal efficiencies and process improvements.\\r\\n• Builds and extends our analytics portfolio supported by robust documentation\\r\\n• Works with autonomy to find solutions to complex problems using open source tools and in-house development\\r\\n• Stays abreast of state-of-the-art literature in the fields of operations research, statistical modeling, statistical process control and mathematical optimization\\r\\n• Creates, communicates, and manages the project plans and other required project documentation and provides updates to leadership as necessary\\r\\n• Develops and maintains relationships with business, IT and clinical leaders and stakeholders across the enterprise to facilitate collaboration and effective communication\\r\\n• Works with the analytics team and clinical/business stakeholders to develop pilots so that they may be tested and validated in pilot settings\\r\\n• Performs analysis to evaluate primary and secondary objectives from such pilots\\r\\n• Assists leadership with strategies for scaling successful projects across the organization and enhances the analytics applications based on feedback from end-users and clinical/business consumers\\r\\n• Assists leadership with dissemination of success stories (and failures) in an effort to increase analytics literacy and adoption across the organization.\\r\\n\\r\\nWhat You Need to Be Successful:\\r\\n\\r\\nIII. Education and Experience\\r\\n\\r\\n• Master’s or higher degree (may be substituted by relevant work experience) in applied mathematics, physics, computer science, engineering, statistics or a related field\\r\\n• 3+ years of Mathematical Optimization, Machine Learning, Predictive Analytics and Algorithm Development experience (experience with tools such as WEKA, RapidMiner, R. Python or other open source tools strongly desired)\\r\\n• Strong development skills in two or more of the following: C/C++, C#, Python, Java\\r\\n• Combining analytic methods with advanced data visualizations\\r\\n• Expert ability to breakdown and clearly define problems\\r\\n• Experience with Natural Language Processing preferred\\r\\n\\r\\nIV. Knowledge, Skills and Abilities\\r\\n\\r\\n• Proven communications skills – Effective at working independently and in collaboration with other staff members. Capable of clearly presenting findings orally, in writing, or through graphics.\\r\\n• Proven analytical skills – Able to compare, contrast, and validate work with keen attention to detail. Skilled in working with “real world” data including scrubbing, transformation, and imputation.\\r\\n• Proven problem solving skills – Able to plan work, set clear direction, and coordinate own tasks in a fast-paced multidisciplinary environment. Expert at triaging issues, identifying data anomalies, and debugging software.\\r\\n• Design and prototype new application functionality for our products.\\r\\n• Change oriented – actively generates process improvements; supports and drives change, and confronts difficult circumstances in creative ways\\r\\n• Effective communicator and change agent\\r\\n• Ability to prioritize the tasks of the project timeline to achieve the desired results\\r\\n• Strong analytic and problem solving skills\\r\\n• Ability to cooperatively and effectively work with people from various organization levels\\r\\n\\r\\nWe are an Equal Opportunity Employer and do not discriminate against any employee or applicant for employment because of race, color, sex, age, national origin, religion, sexual orientation, gender identity, status as a veteran, and basis of disability or any other federal, state or local protected class.'\n",
      " \"KnowBe4, Inc. is a high growth information security company. We are the world's largest provider of new-school security awareness training and simulated phishing. KnowBe4 was created to help organizations manage the ongoing problem of social engineering. Tens of thousands of organizations worldwide use KnowBe4's platform to mobilize their end users as a last line of defense and enable them to make better security decisions, every day.\\r\\n\\r\\nWe are ranked #1 best place to work in technology nationwide by Fortune Magazine and have placed #1 or #2 in The Tampa Bay Top Workplaces Survey for the last four years. We also just had our 27th record-setting quarter in a row!\\r\\n\\r\\nThe Data Scientist will work closely with the VP of FP&A and the Quantitative Analytics Manager to implement advanced analytical models and other data-driven solutions.\\r\\n\\r\\nResponsibilities:\\r\\nWork with key stakeholders throughout the organization to identify opportunities using financial data to develop business solutions.\\r\\nDevelop new and enhance existing data collection procedures to ensure that all data relevant for analyses is captured.\\r\\nCleanse, consolidate, and verify the integrity of data used in analyses.\\r\\nBuild and validate predictive models to increase customer retention, revenue generation, and other business outcomes.\\r\\nDevelop relevant statistical models to assist with profitability forecasting\\r\\nCreate the analytics to leverage known, inferred and appended information about origins and recognizing patterns to assist in outlook forecasting\\r\\nAssist in the design and data modeling of data warehouse.\\r\\nVisualize data, especially in reports and dashboards, to communicate analysis results to stakeholders.\\r\\nExtend data collection to unstructured data within the company and external sources\\r\\nMine and collect data (both structured and unstructured) to detect patterns, opportunities and insights that drive our organization\\r\\nCreate and execute automation and data mining requests utilizing SQL, Access, Excel, SAS and other statistical programs\\r\\nTrouble shoot forecast and optimization anomalies with FP&A team through the use of statistical and mathematical optimization models. Develop testing to explain and or reduce these anomalies.\\r\\nOversee and develop key metric forecasts as well as provide budget support based on trends in the business/industry.\\r\\nMinimum Qualifications:\\r\\nMaster's degree in Statistics, Computer Science, Mathematics or other quantitative discipline required\\r\\n2-3 years of experience in similar role (Master's Degree)\\r\\n0-2 years of experience in similar role (PhD)\\r\\nExperience leveraging predictive modeling, big data analytics, exploratory data analysis and machine learning to drive significant business impact\\r\\nExperience with statistical computer languages (Python, R etc.) to manipulate and analyze large datasets preferred.\\r\\nExperience with data visualization tools like D3.js, matplotlib, etc., preferred\\r\\nExceptional understanding of machine learning algorithms such as Random Forest, SVM, k-NN, Naïve Bayes, Gradient Boosting a plus.\\r\\nApplied statistical skills including statistical testing, regression, etc.\\r\\nExperience with data bases, query languages, and associated data architecture.\\r\\nExperience with distributed computing tools (Hive, Spark, etc.) is a plus.\\r\\nStrong analytical skills and ability to meet project deadlines.\\r\\nNote: An applicant assessment, background check and drug test may be part of your hiring procedure.\\r\\n\\r\\nNo recruitment agencies, please.\"]\n",
      "['Tecolote Research\\r\\n3.8' 'University of Maryland Medical System\\r\\n3.4'\n",
      " 'KnowBe4\\r\\n4.8']\n",
      "['Albuquerque, NM' 'Linthicum, MD' 'Clearwater, FL']\n",
      "['Goleta, CA' 'Baltimore, MD' 'Clearwater, FL']\n",
      "['501 - 1000 ' '10000+ ' '1001 - 5000 ']\n",
      "['Company - Private' 'Other Organization' 'Government']\n",
      "['Aerospace & Defense' 'Health Care Services & Hospitals'\n",
      " 'Security Services']\n",
      "['Aerospace & Defense' 'Health Care' 'Business Services']\n",
      "['$50 to $100 million (USD)' '$2 to $5 billion (USD)'\n",
      " '$100 to $500 million (USD)']\n",
      "[nan\n",
      " 'Oak Ridge National Laboratory, National Renewable Energy Lab, Los Alamos National Laboratory'\n",
      " 'Commerce Signals, Cardlytics, Yodlee']\n",
      "['Tecolote Research' 'University of Maryland Medical System' 'KnowBe4']\n",
      "['NM' 'MD' 'FL']\n",
      "['data scientist' 'other scientist' 'analyst']\n",
      "[nan 'sr' 'jr']\n",
      "['M' nan 'P']\n"
     ]
    }
   ],
   "source": [
    "for col in list_cate:\n",
    "    print(data[col].unique()[:3])"
   ]
  },
  {
   "cell_type": "markdown",
   "id": "70659823",
   "metadata": {},
   "source": [
    "Có vẻ không có vấn đề gì"
   ]
  },
  {
   "cell_type": "markdown",
   "id": "7e90cfe6",
   "metadata": {},
   "source": [
    "### 3. Các câu hỏi ý nghĩa cần trả lời <a class=\"anchor\" id=\"3\"></a>"
   ]
  },
  {
   "cell_type": "markdown",
   "id": "ed665353",
   "metadata": {},
   "source": [
    "#### Câu hỏi 1: Những công việc nào có mức lương trung bình cao nhất? <a class=\"anchor\" id=\"3.1\"></a>"
   ]
  },
  {
   "cell_type": "markdown",
   "id": "994e99ff",
   "metadata": {},
   "source": [
    "Ý nghĩa: trả lời được câu hỏi này sẽ giúp ta biết được công việc nào sẽ có mức lương thế nào để sau này có thể chọn cho mình một công việc có mức lương mà mình mong muốn."
   ]
  },
  {
   "cell_type": "markdown",
   "id": "51974708",
   "metadata": {},
   "source": [
    "#### Khám phá và xử lý dữ liệu để trả lời"
   ]
  },
  {
   "cell_type": "markdown",
   "id": "81f94eb4",
   "metadata": {},
   "source": [
    "Chúng ta sẽ dựa vào dữ liệu ở cột 'Job Title' và 'Avg Salary(K)' để trả lời câu hỏi này."
   ]
  },
  {
   "cell_type": "markdown",
   "id": "2adc2729",
   "metadata": {},
   "source": [
    "#### Bước 1:\n",
    "\n",
    "Dùng hàm groupby để gom nhóm dataframe ban đầu theo tên công việc và dùng hàm mean() để tính mức lương trung bình của công việc đó rồi lưu vào 'avgSalary_df'"
   ]
  },
  {
   "cell_type": "code",
   "execution_count": 17,
   "id": "0d55ab81",
   "metadata": {},
   "outputs": [],
   "source": [
    "avgSalary_df=data.groupby(by='Job Title').mean()"
   ]
  },
  {
   "cell_type": "markdown",
   "id": "2fcb5d44",
   "metadata": {},
   "source": [
    "#### Bước 2:\n",
    "\n",
    "Tạo series 'result_series' trong đó index là tên công việc và value là lương trung bình của công việc đó(sort giá trị theo thứ tự từ lớn đến bé để dễ quan sát) "
   ]
  },
  {
   "cell_type": "code",
   "execution_count": 18,
   "id": "9b3268e3",
   "metadata": {},
   "outputs": [
    {
     "data": {
      "text/plain": [
       "Job Title\n",
       "Director II, Data Science - GRM Actuarial                 254.0\n",
       "Principal Machine Learning Scientist                      232.5\n",
       "Principal Data Scientist with over 10 years experience    225.0\n",
       "Lead Data Engineer                                        205.0\n",
       "Director II, Data Science - GRS Predictive Analytics      194.5\n",
       "                                                          ...  \n",
       "Medical Technologist / Clinical Laboratory Scientist       41.5\n",
       "Data Analytics Manager                                     40.5\n",
       "Project Scientist                                          39.5\n",
       "Associate Data Analyst                                     38.5\n",
       "Senior Operations Data Analyst, Call Center Operations     27.5\n",
       "Name: Avg Salary(K), Length: 264, dtype: float64"
      ]
     },
     "execution_count": 18,
     "metadata": {},
     "output_type": "execute_result"
    }
   ],
   "source": [
    "result_series=avgSalary_df['Avg Salary(K)'].sort_values(ascending=False)\n",
    "result_series"
   ]
  },
  {
   "cell_type": "code",
   "execution_count": 19,
   "id": "efe7e718",
   "metadata": {},
   "outputs": [
    {
     "data": {
      "text/plain": [
       "264"
      ]
     },
     "execution_count": 19,
     "metadata": {},
     "output_type": "execute_result"
    }
   ],
   "source": [
    "len(result_series)"
   ]
  },
  {
   "cell_type": "markdown",
   "id": "f56b7d1a",
   "metadata": {},
   "source": [
    "Như ta thấy thì 'result_series' chứa đến 264 phần tử.\n",
    "\n",
    "Do đó khi ta vẽ biểu đồ sẽ rất khó quan sát.\n",
    "\n",
    "Vậy nên chúng ta sẽ bỏ bớt các phần tử có giá trị nhỏ hơn hoặc bằng mean của series."
   ]
  },
  {
   "cell_type": "code",
   "execution_count": null,
   "id": "619e70a0",
   "metadata": {},
   "outputs": [
    {
     "data": {
      "text/plain": [
       "121"
      ]
     },
     "execution_count": 20,
     "metadata": {},
     "output_type": "execute_result"
    }
   ],
   "source": [
    "result_series=result_series[result_series > result_series.mean()]\n",
    "len(result_series)"
   ]
  },
  {
   "cell_type": "markdown",
   "id": "08728c94",
   "metadata": {},
   "source": [
    "Vẫy còn 121 phần tử (khá nhiều).\n",
    "\n",
    "Chúng ta tiếp tục bỏ bớt cho tới khi nào còn khoảng 30 giá trị thì dừng."
   ]
  },
  {
   "cell_type": "code",
   "execution_count": null,
   "id": "efffa9c2",
   "metadata": {},
   "outputs": [],
   "source": [
    "result_series=result_series[result_series > result_series.mean()]\n",
    "len(result_series)"
   ]
  },
  {
   "cell_type": "code",
   "execution_count": null,
   "id": "0de1ade0",
   "metadata": {},
   "outputs": [],
   "source": [
    "result_series=result_series[result_series > result_series.mean()]\n",
    "len(result_series)"
   ]
  },
  {
   "cell_type": "markdown",
   "id": "f0c85c00",
   "metadata": {},
   "source": [
    "#### Bước 4:\n",
    "\n",
    "Từ kết quả ở trên, vẽ barh chart, trong đó trục hoành là mức lương trung bình và trục tung là tên công việc.\n",
    "\n",
    "Đặt tên trục hoành là 'AVG Salary' và tên trục tung là 'Job Title'"
   ]
  },
  {
   "cell_type": "code",
   "execution_count": null,
   "id": "21d8d172",
   "metadata": {},
   "outputs": [],
   "source": [
    "result_df=result_series.to_frame()\n",
    "result_df.columns=['AVG Salary']\n",
    "result_df.plot.barh(ylabel='Job Title',figsize=(20,15))"
   ]
  },
  {
   "cell_type": "markdown",
   "id": "62fb1df0",
   "metadata": {},
   "source": [
    "Từ biểu đồ trên ta có thể trả lời câu hỏi:\n",
    "\n",
    "-Những công việc có mức lương cao nhất là: Director II, Data Science - GRM Actuarial ; Principal Machine Learning Scientist ; Principal Data Scientist with over 10 years experience...\n",
    "\n",
    "-Vậy những công việc có mức lương cao nhất là những công việc ở vị trí cao như giám đốc, quản lý... hay những công việc cần nhiều kinh nghiệm(>10 năm). Từ đó sinh viên sẽ có mục tiêu rõ ràng hơn để hướng đến."
   ]
  },
  {
   "cell_type": "markdown",
   "id": "3a9d9418",
   "metadata": {},
   "source": [
    "#### Câu hỏi 2: Trong tất cả các kỹ năng(Python,spark,aws,excel...), những kỹ năng nào là quan trọng nhất? <a class=\"anchor\" id=\"3.2\"></a>"
   ]
  },
  {
   "cell_type": "markdown",
   "id": "96e74199",
   "metadata": {},
   "source": [
    "Ý nghĩa: trả lời được câu hỏi này sẽ giúp ta biết được những kỹ năng cần thiết cho công việc để có thể trau dồi một cách chuẩn xác nhất."
   ]
  },
  {
   "cell_type": "markdown",
   "id": "edc93af2",
   "metadata": {},
   "source": [
    "#### Khám phá và xử lý dữ liệu để trả lời"
   ]
  },
  {
   "cell_type": "markdown",
   "id": "b79b6c1d",
   "metadata": {},
   "source": [
    "Chúng ta sẽ dựa vào các cột từ vị trí 22 tới vị trí 37 để trả lời câu hỏi này. Vì các cột này là các cột cho ta biết kỹ năng đó có cần thiết cho công việc hay ko."
   ]
  },
  {
   "cell_type": "markdown",
   "id": "e1d14af1",
   "metadata": {},
   "source": [
    "#### Bước 1:\n",
    "\n",
    "Lưu danh sách kỹ năng cần thiết vào 'skill_list'."
   ]
  },
  {
   "cell_type": "code",
   "execution_count": null,
   "id": "de2b5c8c",
   "metadata": {},
   "outputs": [],
   "source": [
    "skill_list=data.columns[22:38].tolist()\n",
    "skill_list"
   ]
  },
  {
   "cell_type": "markdown",
   "id": "6e2857f1",
   "metadata": {},
   "source": [
    "#### Bước 2:\n",
    "\n",
    "Ứng với mỗi kỹ năng, ta sẽ tính số lượng công việc cần tới kỹ năng này và lưu vào series 'result_skill' với index là tên kỹ năng và value là số lượng công việc cần đến kỹ năng này."
   ]
  },
  {
   "cell_type": "code",
   "execution_count": null,
   "id": "947730d6",
   "metadata": {},
   "outputs": [],
   "source": [
    "def Calculate_Num_Needed_Skill(skill_list):\n",
    "    result_sr=pd.Series(index=skill_list,dtype='float64')\n",
    "    for skill in skill_list:\n",
    "        num_yes=data[skill].value_counts()[1]\n",
    "        result_sr[skill]=num_yes\n",
    "    return result_sr"
   ]
  },
  {
   "cell_type": "code",
   "execution_count": null,
   "id": "8362e33e",
   "metadata": {},
   "outputs": [],
   "source": [
    "result_skill=Calculate_Num_Needed_Skill(skill_list)\n",
    "result_skill=result_skill.sort_values(ascending=False)\n",
    "result_skill"
   ]
  },
  {
   "cell_type": "markdown",
   "id": "479ec515",
   "metadata": {},
   "source": [
    "#### Bước 3:\n",
    "\n",
    "Từ kết quả ở trên, vẽ barh chart, trong đó trục hoành là số lượng công việc cần đến kỹ năng này và trục tung là tên kỹ năng.\n",
    "\n",
    "Đặt tên trục hoành là 'Num_Job_Needed' và tên trục tung là 'Skill'"
   ]
  },
  {
   "cell_type": "code",
   "execution_count": null,
   "id": "5853f5bc",
   "metadata": {},
   "outputs": [],
   "source": [
    "result_skill_df=result_skill.to_frame()\n",
    "result_skill_df.columns=['Num_Job_Needed']\n",
    "result_skill_df.plot.barh(ylabel='Skill',figsize=(20,15))"
   ]
  },
  {
   "cell_type": "markdown",
   "id": "654d3713",
   "metadata": {},
   "source": [
    "Từ biểu đồ trên ta có thể trả lời câu hỏi:\n",
    "\n",
    "-Những kỹ năng quan trọng nhất là: Python, sql, excel (số lượng công ty cần các kỹ năng này bỏ xa số lượng công ty cần các kỹ năng khác).\n",
    "\n",
    "-Từ câu hỏi này ta có thể thấy Python là quan trọng nhất đối với một nhà khoa học dữ liệu. Do đó chúng ta nên rèn luyện kỹ năng Python để sau này có thể kiếm được một công việc ổn định, đồng thời rèn luyện thêm kiến thức về sql và cả excel nữa."
   ]
  },
  {
   "cell_type": "markdown",
   "id": "38b3b2ab",
   "metadata": {},
   "source": [
    "#### Câu hỏi 3: Mức lương của công ty có phụ thuộc vào size của công ty hay không, liệu có những khác nhau về kỹ năng đối với từng loại công việc giữa các size công ty không? <a class=\"anchor\" id=\"3.3\"></a>\n",
    "Trả lời câu hỏi này sẽ cho ta một cái nhìn toàn cảnh về tình hình lương của các công ty lớn nhỏ, sự khác biệt về yêu cầu của các  loại công ty để định hướng cho phù hợp. Nếu bạn muốn làm những công ty lớn, môi trường chuyên nghiệp thì bạn cần chú trọng về gì. Hoặc bạn muốn công ty startup, môi trường năng động thì cần gì.\n",
    "- Bước 1: Tiền xử lý dữ liệu \n",
    "    + Các giá trị đã được tiền xử lý sẵn nên không cần làm gì thêm. \n",
    "- Bước 2: Tìm câu trả lời"
   ]
  },
  {
   "cell_type": "code",
   "execution_count": null,
   "id": "d37a7a1b",
   "metadata": {},
   "outputs": [],
   "source": [
    "temp = data.groupby(['Size','job_title_sim'])['Avg Salary(K)'].mean().reset_index()\n",
    "temp = temp.pivot(index = 'Size', columns = 'job_title_sim', values = 'Avg Salary(K)')\n",
    "temp.style.highlight_max(axis=0,color = 'pink')"
   ]
  },
  {
   "cell_type": "markdown",
   "id": "32aa743d",
   "metadata": {},
   "source": [
    "Như ta thấy, không phải công ty có size càng lớn thì trung bình lương càng cao. <br />\n",
    "Lương trung bình cao nhất của 3 nghề analyst, data engineer, data modeler đều tập trung ở công ty có size từ 51-200. Lương trung bình cao nhất của 2 nghề data analitics, machine learning engineer thì ở công ty có size 201 - 500. <br />\n",
    "Tiếp theo ta sẽ xét xem liệu có những khác nhau về kỹ năng đối với từng loại công việc giữa các size công ty không?"
   ]
  },
  {
   "cell_type": "code",
   "execution_count": null,
   "id": "3bc939ad",
   "metadata": {},
   "outputs": [],
   "source": [
    "skill_name = ['Python',\n",
    "       'spark', 'aws', 'excel', 'sql', 'sas', 'keras', 'pytorch', 'scikit',\n",
    "       'tensor', 'hadoop', 'tableau', 'bi', 'flink', 'mongo', 'google_an' ]\n",
    "analyst_data = data.groupby(['Size','job_title_sim'])[skill_name].sum().reset_index()\n",
    "value_size = data.groupby(['Size','job_title_sim']).size().reset_index(name='counts')"
   ]
  },
  {
   "cell_type": "code",
   "execution_count": null,
   "id": "a7710121",
   "metadata": {},
   "outputs": [],
   "source": [
    "for job_name in analyst_data['job_title_sim'].unique().tolist():  \n",
    "    visual_1 = analyst_data[analyst_data['job_title_sim'] == job_name][skill_name].values.tolist()\n",
    "    name_ = analyst_data[analyst_data['job_title_sim'] == job_name][\"Size\"].values.tolist()\n",
    "    size_ = value_size[value_size['job_title_sim']==job_name]['counts'].values.tolist()\n",
    "    fig = go.Figure()\n",
    "    sum_1 = [0]*len(skill_name)\n",
    "    sum_2 = [0]*len(skill_name)\n",
    "    size_1 = 0\n",
    "    size_2 = 0 \n",
    "    for index in range(len(visual_1)):\n",
    "        if name_[index] in ['1 - 50 ', '201 - 500 ', '51 - 200 ','501 - 1000 ']:\n",
    "            sum_1 = [sum(x) for x in zip(visual_1[index], sum_1)]\n",
    "            size_1 += size_[index]\n",
    "        elif name_[index] != 'unknown': \n",
    "            sum_2 = [sum(x) for x in zip(visual_1[index], sum_1)]\n",
    "            size_2 += size_[index]\n",
    "\n",
    "    fig.add_trace(go.Scatterpolar(\n",
    "                  r=[(x / size_1)*100 for x in sum_1],\n",
    "                  theta=skill_name,\n",
    "                  fill='toself',\n",
    "                  name= '<=1000'\n",
    "            ))\n",
    "    fig.add_trace(go.Scatterpolar(\n",
    "                  r=[(x / size_2)*100 for x in sum_2],\n",
    "                  theta=skill_name,\n",
    "                  fill='toself',\n",
    "                  name= '>1000'\n",
    "            ))\n",
    "    fig.update_layout(\n",
    "      polar=dict(\n",
    "        radialaxis=dict(\n",
    "          visible=True,\n",
    "          range=[0, 100]\n",
    "        )),\n",
    "      showlegend=True,\n",
    "        title=job_name\n",
    "    )\n",
    "\n",
    "    fig.show()\n",
    "\n"
   ]
  },
  {
   "cell_type": "markdown",
   "id": "b6547b9a",
   "metadata": {},
   "source": [
    "Để dễ so sánh ta sẽ phân size công ty thành 2 loại, ít hơn 1000 nhân viên và nhiều hơn 1000 nhân viên.<br />\n",
    "Như ta thấy, các công ty >1000 có xu hướng yêu cầu chung về một hoặc nhiều loại kỹ năng gì đó cho công việc. Ví dụ như ở machine learning engineer, data analitics, Data scientist project manager có một nhóm các kỹ năng mà 100% các công ty >1000 đều yêu cầu phải có. Xu hướng này ít hơn ở bên các công ty <1000 nhân viên. \n",
    "Một đặc điểm ta nhận ra nữa là cùng một công việc nhưng công ty <1000 nhân viên lại yêu cầu nhiều kỹ năng hơn, như vậy có thể bạn sẽ làm nhiều nhiệm vụ khác nhau, phát triển nhiều thứ. Còn ở công ty lớn thì bạn sẽ tập trung làm những kỹ năng cốt lõi và rèn luyện chúng tốt hơn."
   ]
  },
  {
   "cell_type": "markdown",
   "id": "211899d4",
   "metadata": {},
   "source": [
    "### 4. Nhìn lại quá trình làm đồ án <a class=\"anchor\" id=\"4\"></a>\n"
   ]
  },
  {
   "cell_type": "markdown",
   "id": "66775edf",
   "metadata": {},
   "source": [
    "#### Trong quá trình làm, nhóm đã gặp không ít khó khăn:\n",
    "- Khánh Đăng:\n",
    "    + Việc đầu tiên là tìm câu hỏi có ý nghĩa để trả lời và tìm data set để trả lời nó. Đáng lẽ là nên tìm câu hỏi trước -> tìm data nhưng lúc đầu nhóm đã làm ngược lại, nhóm tìm ra data về các lần phóng, về tên lửa của SpaceX nhưng nhóm nhận ra không đủ kiến thức để phân tích dữ liệu thiên về một chuyên ngành riêng biệt vậy nên nhóm đã chuyển chủ đề về lương của các nghề thuộc lĩnh vực data.\n",
    "    + Khi visualize để tìm câu trả lời cho câu hỏi 3, lúc đầu nhóm visualize tất cả các size công ty chung với nhau rất là hỗn loạn không nhìn ra gì, sau nhóm mới chia ra là công ty <= 1000 và >1000 nhân viên.\n",
    "<br />\n",
    "- Minh Tú :\n",
    "     + Khó khăn trong việc dùng git, đặc biệt phần xử lý conflict lúc merge. \n",
    "     + Trong lúc tìm câu hỏi ý nghĩa cần trả lời."
   ]
  },
  {
   "cell_type": "markdown",
   "id": "8d4dfa74",
   "metadata": {},
   "source": [
    "#### Vậy nhóm đã học được gì:\n",
    "- Khánh Đăng:\n",
    "    + Hiểu rõ hơn về quy trình khoa học dữ liệu, tầm quan trọng của việc đặt ra câu hỏi có ý nghĩa cần trả lời. \n",
    "    + Biết thêm về các hàm vẽ đồ thị và cách phân tích nó.\n",
    "- Minh Tú:\n",
    "    + Hiểu hơn về quy trình khoa học dữ liệu.\n",
    "    + Hiểu hơn về các xử dụng git, xử lý conflict lúc merge. \n"
   ]
  },
  {
   "cell_type": "markdown",
   "id": "ba8dc3af",
   "metadata": {},
   "source": [
    "#### Nếu có thêm thời gian thì sẽ làm gì?\n",
    "- Nhóm sẽ tìm thêm câu hỏi có ý nghĩa để trả lời."
   ]
  },
  {
   "cell_type": "markdown",
   "id": "1cedecac",
   "metadata": {},
   "source": [
    "### 5. Tài liệu tham kháo: <a class=\"anchor\" id=\"5\"></a>\n",
    "-  Các slide, video record của môn học.\n",
    "-  https://stackoverflow.com/ ( các topic về python )"
   ]
  }
 ],
 "metadata": {
  "kernelspec": {
   "display_name": "Python 3 (ipykernel)",
   "language": "python",
   "name": "python3"
  },
  "language_info": {
   "codemirror_mode": {
    "name": "ipython",
    "version": 3
   },
   "file_extension": ".py",
   "mimetype": "text/x-python",
   "name": "python",
   "nbconvert_exporter": "python",
   "pygments_lexer": "ipython3",
   "version": "3.8.8"
  }
 },
 "nbformat": 4,
 "nbformat_minor": 5
}
